{
    "metadata": {
        "kernelspec": {
            "name": "python3",
            "display_name": "Python 3",
            "language": "python"
        },
        "language_info": {
            "name": "python",
            "version": "3.8.10",
            "mimetype": "text/x-python",
            "codemirror_mode": {
                "name": "ipython",
                "version": 3
            },
            "pygments_lexer": "ipython3",
            "nbconvert_exporter": "python",
            "file_extension": ".py"
        }
    },
    "nbformat_minor": 2,
    "nbformat": 4,
    "cells": [
        {
            "cell_type": "markdown",
            "source": [
                "# <span style=\"color: #008000;\">Beautifying the Flowers</span>\n",
                "\n",
                "<span style=\"color: #008000;\">This project is for a bit data manipulation and visualization and applying Linear Regression on a data set. Here we are using dataset as iris.csv.</span>"
            ],
            "metadata": {
                "azdata_cell_guid": "8bcc0530-14f3-46f0-9d27-693bff18a321"
            },
            "attachments": {}
        },
        {
            "cell_type": "markdown",
            "source": [
                "<span style=\"color: rgb(0, 128, 0);\">1. Import pandas , matplotlib , seaborn ,sklearn libraries</span>"
            ],
            "metadata": {
                "azdata_cell_guid": "7e243e54-4233-41ff-a7f3-3c3b5df0c6de"
            },
            "attachments": {}
        },
        {
            "cell_type": "code",
            "source": [
                "import pandas as pd\n",
                "import numpy as np\n",
                "import matplotlib.pyplot as plt \n",
                "import seaborn as sns\n",
                "import sklearn\n",
                "import scipy.stats as stats"
            ],
            "metadata": {
                "azdata_cell_guid": "e9ea321d-5093-42e1-8448-b8b28cf5e276",
                "tags": []
            },
            "outputs": [],
            "execution_count": 77
        },
        {
            "cell_type": "markdown",
            "source": [
                "<span style=\"color: rgb(0, 128, 0);\">2. Read csv file named as iris.csv</span>\n",
                "\n",
                "<span style=\"color: rgb(0, 128, 0);\">Using Pandas pd.read_csv to import separated value (CSV) file. (150)</span>"
            ],
            "metadata": {
                "azdata_cell_guid": "df202e98-3628-4358-a54f-ece23906ae8e"
            },
            "attachments": {}
        },
        {
            "cell_type": "code",
            "source": [
                "# read the csv file \n",
                "df = pd.read_csv('Iris.csv')\n",
                "# Convert entire data frame as string and print\n",
                "print(df.to_string()) "
            ],
            "metadata": {
                "azdata_cell_guid": "a302ccc4-7c5b-4c8c-b01f-f0fa36ae2d2d",
                "tags": []
            },
            "outputs": [
                {
                    "output_type": "stream",
                    "name": "stdout",
                    "text": "      Id  SepalLengthCm  SepalWidthCm  PetalLengthCm  PetalWidthCm          Species\n0      1            5.1           3.5            1.4           0.2      Iris-setosa\n1      2            4.9           3.0            1.4           0.2      Iris-setosa\n2      3            4.7           3.2            1.3           0.2      Iris-setosa\n3      4            4.6           3.1            1.5           0.2      Iris-setosa\n4      5            5.0           3.6            1.4           0.2      Iris-setosa\n5      6            5.4           3.9            1.7           0.4      Iris-setosa\n6      7            4.6           3.4            1.4           0.3      Iris-setosa\n7      8            5.0           3.4            1.5           0.2      Iris-setosa\n8      9            4.4           2.9            1.4           0.2      Iris-setosa\n9     10            4.9           3.1            1.5           0.1      Iris-setosa\n10    11            5.4           3.7            1.5           0.2      Iris-setosa\n11    12            4.8           3.4            1.6           0.2      Iris-setosa\n12    13            4.8           3.0            1.4           0.1      Iris-setosa\n13    14            4.3           3.0            1.1           0.1      Iris-setosa\n14    15            5.8           4.0            1.2           0.2      Iris-setosa\n15    16            5.7           4.4            1.5           0.4      Iris-setosa\n16    17            5.4           3.9            1.3           0.4      Iris-setosa\n17    18            5.1           3.5            1.4           0.3      Iris-setosa\n18    19            5.7           3.8            1.7           0.3      Iris-setosa\n19    20            5.1           3.8            1.5           0.3      Iris-setosa\n20    21            5.4           3.4            1.7           0.2      Iris-setosa\n21    22            5.1           3.7            1.5           0.4      Iris-setosa\n22    23            4.6           3.6            1.0           0.2      Iris-setosa\n23    24            5.1           3.3            1.7           0.5      Iris-setosa\n24    25            4.8           3.4            1.9           0.2      Iris-setosa\n25    26            5.0           3.0            1.6           0.2      Iris-setosa\n26    27            5.0           3.4            1.6           0.4      Iris-setosa\n27    28            5.2           3.5            1.5           0.2      Iris-setosa\n28    29            5.2           3.4            1.4           0.2      Iris-setosa\n29    30            4.7           3.2            1.6           0.2      Iris-setosa\n30    31            4.8           3.1            1.6           0.2      Iris-setosa\n31    32            5.4           3.4            1.5           0.4      Iris-setosa\n32    33            5.2           4.1            1.5           0.1      Iris-setosa\n33    34            5.5           4.2            1.4           0.2      Iris-setosa\n34    35            4.9           3.1            1.5           0.1      Iris-setosa\n35    36            5.0           3.2            1.2           0.2      Iris-setosa\n36    37            5.5           3.5            1.3           0.2      Iris-setosa\n37    38            4.9           3.1            1.5           0.1      Iris-setosa\n38    39            4.4           3.0            1.3           0.2      Iris-setosa\n39    40            5.1           3.4            1.5           0.2      Iris-setosa\n40    41            5.0           3.5            1.3           0.3      Iris-setosa\n41    42            4.5           2.3            1.3           0.3      Iris-setosa\n42    43            4.4           3.2            1.3           0.2      Iris-setosa\n43    44            5.0           3.5            1.6           0.6      Iris-setosa\n44    45            5.1           3.8            1.9           0.4      Iris-setosa\n45    46            4.8           3.0            1.4           0.3      Iris-setosa\n46    47            5.1           3.8            1.6           0.2      Iris-setosa\n47    48            4.6           3.2            1.4           0.2      Iris-setosa\n48    49            5.3           3.7            1.5           0.2      Iris-setosa\n49    50            5.0           3.3            1.4           0.2      Iris-setosa\n50    51            7.0           3.2            4.7           1.4  Iris-versicolor\n51    52            6.4           3.2            4.5           1.5  Iris-versicolor\n52    53            6.9           3.1            4.9           1.5  Iris-versicolor\n53    54            5.5           2.3            4.0           1.3  Iris-versicolor\n54    55            6.5           2.8            4.6           1.5  Iris-versicolor\n55    56            5.7           2.8            4.5           1.3  Iris-versicolor\n56    57            6.3           3.3            4.7           1.6  Iris-versicolor\n57    58            4.9           2.4            3.3           1.0  Iris-versicolor\n58    59            6.6           2.9            4.6           1.3  Iris-versicolor\n59    60            5.2           2.7            3.9           1.4  Iris-versicolor\n60    61            5.0           2.0            3.5           1.0  Iris-versicolor\n61    62            5.9           3.0            4.2           1.5  Iris-versicolor\n62    63            6.0           2.2            4.0           1.0  Iris-versicolor\n63    64            6.1           2.9            4.7           1.4  Iris-versicolor\n64    65            5.6           2.9            3.6           1.3  Iris-versicolor\n65    66            6.7           3.1            4.4           1.4  Iris-versicolor\n66    67            5.6           3.0            4.5           1.5  Iris-versicolor\n67    68            5.8           2.7            4.1           1.0  Iris-versicolor\n68    69            6.2           2.2            4.5           1.5  Iris-versicolor\n69    70            5.6           2.5            3.9           1.1  Iris-versicolor\n70    71            5.9           3.2            4.8           1.8  Iris-versicolor\n71    72            6.1           2.8            4.0           1.3  Iris-versicolor\n72    73            6.3           2.5            4.9           1.5  Iris-versicolor\n73    74            6.1           2.8            4.7           1.2  Iris-versicolor\n74    75            6.4           2.9            4.3           1.3  Iris-versicolor\n75    76            6.6           3.0            4.4           1.4  Iris-versicolor\n76    77            6.8           2.8            4.8           1.4  Iris-versicolor\n77    78            6.7           3.0            5.0           1.7  Iris-versicolor\n78    79            6.0           2.9            4.5           1.5  Iris-versicolor\n79    80            5.7           2.6            3.5           1.0  Iris-versicolor\n80    81            5.5           2.4            3.8           1.1  Iris-versicolor\n81    82            5.5           2.4            3.7           1.0  Iris-versicolor\n82    83            5.8           2.7            3.9           1.2  Iris-versicolor\n83    84            6.0           2.7            5.1           1.6  Iris-versicolor\n84    85            5.4           3.0            4.5           1.5  Iris-versicolor\n85    86            6.0           3.4            4.5           1.6  Iris-versicolor\n86    87            6.7           3.1            4.7           1.5  Iris-versicolor\n87    88            6.3           2.3            4.4           1.3  Iris-versicolor\n88    89            5.6           3.0            4.1           1.3  Iris-versicolor\n89    90            5.5           2.5            4.0           1.3  Iris-versicolor\n90    91            5.5           2.6            4.4           1.2  Iris-versicolor\n91    92            6.1           3.0            4.6           1.4  Iris-versicolor\n92    93            5.8           2.6            4.0           1.2  Iris-versicolor\n93    94            5.0           2.3            3.3           1.0  Iris-versicolor\n94    95            5.6           2.7            4.2           1.3  Iris-versicolor\n95    96            5.7           3.0            4.2           1.2  Iris-versicolor\n96    97            5.7           2.9            4.2           1.3  Iris-versicolor\n97    98            6.2           2.9            4.3           1.3  Iris-versicolor\n98    99            5.1           2.5            3.0           1.1  Iris-versicolor\n99   100            5.7           2.8            4.1           1.3  Iris-versicolor\n100  101            6.3           3.3            6.0           2.5   Iris-virginica\n101  102            5.8           2.7            5.1           1.9   Iris-virginica\n102  103            7.1           3.0            5.9           2.1   Iris-virginica\n103  104            6.3           2.9            5.6           1.8   Iris-virginica\n104  105            6.5           3.0            5.8           2.2   Iris-virginica\n105  106            7.6           3.0            6.6           2.1   Iris-virginica\n106  107            4.9           2.5            4.5           1.7   Iris-virginica\n107  108            7.3           2.9            6.3           1.8   Iris-virginica\n108  109            6.7           2.5            5.8           1.8   Iris-virginica\n109  110            7.2           3.6            6.1           2.5   Iris-virginica\n110  111            6.5           3.2            5.1           2.0   Iris-virginica\n111  112            6.4           2.7            5.3           1.9   Iris-virginica\n112  113            6.8           3.0            5.5           2.1   Iris-virginica\n113  114            5.7           2.5            5.0           2.0   Iris-virginica\n114  115            5.8           2.8            5.1           2.4   Iris-virginica\n115  116            6.4           3.2            5.3           2.3   Iris-virginica\n116  117            6.5           3.0            5.5           1.8   Iris-virginica\n117  118            7.7           3.8            6.7           2.2   Iris-virginica\n118  119            7.7           2.6            6.9           2.3   Iris-virginica\n119  120            6.0           2.2            5.0           1.5   Iris-virginica\n120  121            6.9           3.2            5.7           2.3   Iris-virginica\n121  122            5.6           2.8            4.9           2.0   Iris-virginica\n122  123            7.7           2.8            6.7           2.0   Iris-virginica\n123  124            6.3           2.7            4.9           1.8   Iris-virginica\n124  125            6.7           3.3            5.7           2.1   Iris-virginica\n125  126            7.2           3.2            6.0           1.8   Iris-virginica\n126  127            6.2           2.8            4.8           1.8   Iris-virginica\n127  128            6.1           3.0            4.9           1.8   Iris-virginica\n128  129            6.4           2.8            5.6           2.1   Iris-virginica\n129  130            7.2           3.0            5.8           1.6   Iris-virginica\n130  131            7.4           2.8            6.1           1.9   Iris-virginica\n131  132            7.9           3.8            6.4           2.0   Iris-virginica\n132  133            6.4           2.8            5.6           2.2   Iris-virginica\n133  134            6.3           2.8            5.1           1.5   Iris-virginica\n134  135            6.1           2.6            5.6           1.4   Iris-virginica\n135  136            7.7           3.0            6.1           2.3   Iris-virginica\n136  137            6.3           3.4            5.6           2.4   Iris-virginica\n137  138            6.4           3.1            5.5           1.8   Iris-virginica\n138  139            6.0           3.0            4.8           1.8   Iris-virginica\n139  140            6.9           3.1            5.4           2.1   Iris-virginica\n140  141            6.7           3.1            5.6           2.4   Iris-virginica\n141  142            6.9           3.1            5.1           2.3   Iris-virginica\n142  143            5.8           2.7            5.1           1.9   Iris-virginica\n143  144            6.8           3.2            5.9           2.3   Iris-virginica\n144  145            6.7           3.3            5.7           2.5   Iris-virginica\n145  146            6.7           3.0            5.2           2.3   Iris-virginica\n146  147            6.3           2.5            5.0           1.9   Iris-virginica\n147  148            6.5           3.0            5.2           2.0   Iris-virginica\n148  149            6.2           3.4            5.4           2.3   Iris-virginica\n149  150            5.9           3.0            5.1           1.8   Iris-virginica\n"
                }
            ],
            "execution_count": 33
        },
        {
            "cell_type": "markdown",
            "source": [
                "<span style=\"color: rgb(0, 128, 0);\">3. Show first five records&nbsp;</span> \n",
                "\n",
                "<span style=\"color: rgb(0, 128, 0);\">Using Pandas dataframe&nbsp;</span> <span style=\"color: rgb(0, 128, 0); font-family: -apple-system, BlinkMacSystemFont, sans-serif;\">df.head() returns the first 5 rows of the dataframe. (5)</span>"
            ],
            "metadata": {
                "azdata_cell_guid": "09e2ca44-a16a-4f1b-bad5-a4bba383a539"
            },
            "attachments": {}
        },
        {
            "cell_type": "code",
            "source": [
                "# Getting first 5 rows from df\n",
                "df_first_5 = df.head(5)\n",
                "# Convert entire data frame as string and print\n",
                "print(df_first_5.to_string())"
            ],
            "metadata": {
                "azdata_cell_guid": "cea0913d-db48-4ab3-926b-f4a390b8994e",
                "tags": []
            },
            "outputs": [
                {
                    "output_type": "stream",
                    "name": "stdout",
                    "text": "   Id  SepalLengthCm  SepalWidthCm  PetalLengthCm  PetalWidthCm      Species\n0   1            5.1           3.5            1.4           0.2  Iris-setosa\n1   2            4.9           3.0            1.4           0.2  Iris-setosa\n2   3            4.7           3.2            1.3           0.2  Iris-setosa\n3   4            4.6           3.1            1.5           0.2  Iris-setosa\n4   5            5.0           3.6            1.4           0.2  Iris-setosa\n"
                }
            ],
            "execution_count": 78
        },
        {
            "cell_type": "markdown",
            "source": [
                "<span style=\"color: rgb(0, 128, 0);\">4. Show a dataframe which has sepalwidth greater than 4. (3)</span>"
            ],
            "metadata": {
                "azdata_cell_guid": "00e93002-145e-4daa-9c0b-45b5b5dff62e"
            },
            "attachments": {}
        },
        {
            "cell_type": "code",
            "source": [
                "# selecting rows based on condition \n",
                "df_filter_4 = df[df.SepalWidthCm > 4]\n",
                "# Convert entire data frame as string and print\n",
                "print(df_filter_4)"
            ],
            "metadata": {
                "azdata_cell_guid": "287bbace-3404-43c9-9d59-347ed6d6e7fc"
            },
            "outputs": [
                {
                    "output_type": "stream",
                    "name": "stdout",
                    "text": "    Id  SepalLengthCm  SepalWidthCm  PetalLengthCm  PetalWidthCm      Species\n15  16            5.7           4.4            1.5           0.4  Iris-setosa\n32  33            5.2           4.1            1.5           0.1  Iris-setosa\n33  34            5.5           4.2            1.4           0.2  Iris-setosa\n"
                }
            ],
            "execution_count": 79
        },
        {
            "cell_type": "markdown",
            "source": [
                "<span style=\"color: rgb(0, 128, 0);\">5. Show a dataframe which has petalwidth greater than 1. (93)</span>"
            ],
            "metadata": {
                "azdata_cell_guid": "45287306-efa4-4f90-92d4-77ed68eefc2e"
            },
            "attachments": {}
        },
        {
            "cell_type": "code",
            "source": [
                "# selecting rows based on condition \n",
                "df_filter_1 = df[df.PetalWidthCm > 1]\n",
                "# Convert entire data frame as string and print\n",
                "print(df_filter_1.to_string())"
            ],
            "metadata": {
                "azdata_cell_guid": "5f6059f0-a01e-4355-83bb-1c2544c82986",
                "tags": []
            },
            "outputs": [
                {
                    "output_type": "stream",
                    "name": "stdout",
                    "text": "      Id  SepalLengthCm  SepalWidthCm  PetalLengthCm  PetalWidthCm          Species\n50    51            7.0           3.2            4.7           1.4  Iris-versicolor\n51    52            6.4           3.2            4.5           1.5  Iris-versicolor\n52    53            6.9           3.1            4.9           1.5  Iris-versicolor\n53    54            5.5           2.3            4.0           1.3  Iris-versicolor\n54    55            6.5           2.8            4.6           1.5  Iris-versicolor\n55    56            5.7           2.8            4.5           1.3  Iris-versicolor\n56    57            6.3           3.3            4.7           1.6  Iris-versicolor\n58    59            6.6           2.9            4.6           1.3  Iris-versicolor\n59    60            5.2           2.7            3.9           1.4  Iris-versicolor\n61    62            5.9           3.0            4.2           1.5  Iris-versicolor\n63    64            6.1           2.9            4.7           1.4  Iris-versicolor\n64    65            5.6           2.9            3.6           1.3  Iris-versicolor\n65    66            6.7           3.1            4.4           1.4  Iris-versicolor\n66    67            5.6           3.0            4.5           1.5  Iris-versicolor\n68    69            6.2           2.2            4.5           1.5  Iris-versicolor\n69    70            5.6           2.5            3.9           1.1  Iris-versicolor\n70    71            5.9           3.2            4.8           1.8  Iris-versicolor\n71    72            6.1           2.8            4.0           1.3  Iris-versicolor\n72    73            6.3           2.5            4.9           1.5  Iris-versicolor\n73    74            6.1           2.8            4.7           1.2  Iris-versicolor\n74    75            6.4           2.9            4.3           1.3  Iris-versicolor\n75    76            6.6           3.0            4.4           1.4  Iris-versicolor\n76    77            6.8           2.8            4.8           1.4  Iris-versicolor\n77    78            6.7           3.0            5.0           1.7  Iris-versicolor\n78    79            6.0           2.9            4.5           1.5  Iris-versicolor\n80    81            5.5           2.4            3.8           1.1  Iris-versicolor\n82    83            5.8           2.7            3.9           1.2  Iris-versicolor\n83    84            6.0           2.7            5.1           1.6  Iris-versicolor\n84    85            5.4           3.0            4.5           1.5  Iris-versicolor\n85    86            6.0           3.4            4.5           1.6  Iris-versicolor\n86    87            6.7           3.1            4.7           1.5  Iris-versicolor\n87    88            6.3           2.3            4.4           1.3  Iris-versicolor\n88    89            5.6           3.0            4.1           1.3  Iris-versicolor\n89    90            5.5           2.5            4.0           1.3  Iris-versicolor\n90    91            5.5           2.6            4.4           1.2  Iris-versicolor\n91    92            6.1           3.0            4.6           1.4  Iris-versicolor\n92    93            5.8           2.6            4.0           1.2  Iris-versicolor\n94    95            5.6           2.7            4.2           1.3  Iris-versicolor\n95    96            5.7           3.0            4.2           1.2  Iris-versicolor\n96    97            5.7           2.9            4.2           1.3  Iris-versicolor\n97    98            6.2           2.9            4.3           1.3  Iris-versicolor\n98    99            5.1           2.5            3.0           1.1  Iris-versicolor\n99   100            5.7           2.8            4.1           1.3  Iris-versicolor\n100  101            6.3           3.3            6.0           2.5   Iris-virginica\n101  102            5.8           2.7            5.1           1.9   Iris-virginica\n102  103            7.1           3.0            5.9           2.1   Iris-virginica\n103  104            6.3           2.9            5.6           1.8   Iris-virginica\n104  105            6.5           3.0            5.8           2.2   Iris-virginica\n105  106            7.6           3.0            6.6           2.1   Iris-virginica\n106  107            4.9           2.5            4.5           1.7   Iris-virginica\n107  108            7.3           2.9            6.3           1.8   Iris-virginica\n108  109            6.7           2.5            5.8           1.8   Iris-virginica\n109  110            7.2           3.6            6.1           2.5   Iris-virginica\n110  111            6.5           3.2            5.1           2.0   Iris-virginica\n111  112            6.4           2.7            5.3           1.9   Iris-virginica\n112  113            6.8           3.0            5.5           2.1   Iris-virginica\n113  114            5.7           2.5            5.0           2.0   Iris-virginica\n114  115            5.8           2.8            5.1           2.4   Iris-virginica\n115  116            6.4           3.2            5.3           2.3   Iris-virginica\n116  117            6.5           3.0            5.5           1.8   Iris-virginica\n117  118            7.7           3.8            6.7           2.2   Iris-virginica\n118  119            7.7           2.6            6.9           2.3   Iris-virginica\n119  120            6.0           2.2            5.0           1.5   Iris-virginica\n120  121            6.9           3.2            5.7           2.3   Iris-virginica\n121  122            5.6           2.8            4.9           2.0   Iris-virginica\n122  123            7.7           2.8            6.7           2.0   Iris-virginica\n123  124            6.3           2.7            4.9           1.8   Iris-virginica\n124  125            6.7           3.3            5.7           2.1   Iris-virginica\n125  126            7.2           3.2            6.0           1.8   Iris-virginica\n126  127            6.2           2.8            4.8           1.8   Iris-virginica\n127  128            6.1           3.0            4.9           1.8   Iris-virginica\n128  129            6.4           2.8            5.6           2.1   Iris-virginica\n129  130            7.2           3.0            5.8           1.6   Iris-virginica\n130  131            7.4           2.8            6.1           1.9   Iris-virginica\n131  132            7.9           3.8            6.4           2.0   Iris-virginica\n132  133            6.4           2.8            5.6           2.2   Iris-virginica\n133  134            6.3           2.8            5.1           1.5   Iris-virginica\n134  135            6.1           2.6            5.6           1.4   Iris-virginica\n135  136            7.7           3.0            6.1           2.3   Iris-virginica\n136  137            6.3           3.4            5.6           2.4   Iris-virginica\n137  138            6.4           3.1            5.5           1.8   Iris-virginica\n138  139            6.0           3.0            4.8           1.8   Iris-virginica\n139  140            6.9           3.1            5.4           2.1   Iris-virginica\n140  141            6.7           3.1            5.6           2.4   Iris-virginica\n141  142            6.9           3.1            5.1           2.3   Iris-virginica\n142  143            5.8           2.7            5.1           1.9   Iris-virginica\n143  144            6.8           3.2            5.9           2.3   Iris-virginica\n144  145            6.7           3.3            5.7           2.5   Iris-virginica\n145  146            6.7           3.0            5.2           2.3   Iris-virginica\n146  147            6.3           2.5            5.0           1.9   Iris-virginica\n147  148            6.5           3.0            5.2           2.0   Iris-virginica\n148  149            6.2           3.4            5.4           2.3   Iris-virginica\n149  150            5.9           3.0            5.1           1.8   Iris-virginica\n"
                }
            ],
            "execution_count": 36
        },
        {
            "cell_type": "markdown",
            "source": [
                "<span style=\"color: rgb(0, 128, 0);\">6. Reterive records which have petalwidth more than 2. (23)</span>"
            ],
            "metadata": {
                "azdata_cell_guid": "a6b650bd-806a-41c7-9bcb-77299403af13"
            },
            "attachments": {}
        },
        {
            "cell_type": "code",
            "source": [
                "# selecting rows based on condition \n",
                "df_filter_1 = df[df.PetalWidthCm > 2]\n",
                "# Convert entire data frame as string and print\n",
                "print(df_filter_1.to_string())"
            ],
            "metadata": {
                "azdata_cell_guid": "63734a99-f90d-4374-afdf-173ba2a41d44",
                "tags": []
            },
            "outputs": [
                {
                    "output_type": "stream",
                    "name": "stdout",
                    "text": "      Id  SepalLengthCm  SepalWidthCm  PetalLengthCm  PetalWidthCm         Species\n100  101            6.3           3.3            6.0           2.5  Iris-virginica\n102  103            7.1           3.0            5.9           2.1  Iris-virginica\n104  105            6.5           3.0            5.8           2.2  Iris-virginica\n105  106            7.6           3.0            6.6           2.1  Iris-virginica\n109  110            7.2           3.6            6.1           2.5  Iris-virginica\n112  113            6.8           3.0            5.5           2.1  Iris-virginica\n114  115            5.8           2.8            5.1           2.4  Iris-virginica\n115  116            6.4           3.2            5.3           2.3  Iris-virginica\n117  118            7.7           3.8            6.7           2.2  Iris-virginica\n118  119            7.7           2.6            6.9           2.3  Iris-virginica\n120  121            6.9           3.2            5.7           2.3  Iris-virginica\n124  125            6.7           3.3            5.7           2.1  Iris-virginica\n128  129            6.4           2.8            5.6           2.1  Iris-virginica\n132  133            6.4           2.8            5.6           2.2  Iris-virginica\n135  136            7.7           3.0            6.1           2.3  Iris-virginica\n136  137            6.3           3.4            5.6           2.4  Iris-virginica\n139  140            6.9           3.1            5.4           2.1  Iris-virginica\n140  141            6.7           3.1            5.6           2.4  Iris-virginica\n141  142            6.9           3.1            5.1           2.3  Iris-virginica\n143  144            6.8           3.2            5.9           2.3  Iris-virginica\n144  145            6.7           3.3            5.7           2.5  Iris-virginica\n145  146            6.7           3.0            5.2           2.3  Iris-virginica\n148  149            6.2           3.4            5.4           2.3  Iris-virginica\n"
                }
            ],
            "execution_count": 37
        },
        {
            "cell_type": "markdown",
            "source": [
                "<span style=\"color: rgb(0, 128, 0);\">7. Try to know the relationship between sepallength and petallength and draw a scatter plot between them and show the relationship between them</span>\n",
                "\n",
                "<span style=\"color: rgb(0, 128, 0);\">Using Pandas dataframe scatter plot to draw between two varible x and y on a two dimential plane</span>"
            ],
            "metadata": {
                "azdata_cell_guid": "4a30d36a-354a-485a-9e14-74239f2ecc3c"
            },
            "attachments": {}
        },
        {
            "cell_type": "code",
            "source": [
                "# Draw a scatter plot\n",
                "df.plot.scatter ( x= 'SepalLengthCm', y= 'PetalLengthCm', title = \"Scatter plot between sepallength & petallength \");"
            ],
            "metadata": {
                "azdata_cell_guid": "b618935c-582d-4c4b-833e-876efcfb2407",
                "tags": []
            },
            "outputs": [
                {
                    "output_type": "stream",
                    "name": "stderr",
                    "text": "*c* argument looks like a single numeric RGB or RGBA sequence, which should be avoided as value-mapping will have precedence in case its length matches with *x* & *y*.  Please use the *color* keyword-argument or provide a 2D array with a single row if you intend to specify the same RGB or RGBA value for all points.\n"
                },
                {
                    "output_type": "display_data",
                    "data": {
                        "text/plain": "<Figure size 432x288 with 1 Axes>",
                        "image/png": "[encoded data removed]"
                    },
                    "metadata": {}
                }
            ],
            "execution_count": 83
        },
        {
            "cell_type": "markdown",
            "source": [
                "<span style=\"color: rgb(0, 128, 0);\">8. Now apply species as hue in the same scatter plot for better visibility and understanding</span>"
            ],
            "metadata": {
                "azdata_cell_guid": "80e71b3d-d8af-468b-bb7d-b51777cbab2a"
            },
            "attachments": {}
        },
        {
            "cell_type": "code",
            "source": [
                "# Draw a scatter plot, specify figure size with matplotlib, change marker size with s=100 in\n",
                "df.plot.scatter (x = 'SepalLengthCm', y = 'PetalLengthCm', s=100, figsize= (12,10),\n",
                "                title = \"Scatter plot between sepallength & petallength \" hue = \"species\")\n",
                ""
            ],
            "metadata": {
                "azdata_cell_guid": "fd6853ff-f049-431b-b8a8-46b3de2193e9",
                "tags": []
            },
            "outputs": [
                {
                    "output_type": "display_data",
                    "data": {
                        "text/plain": "<Figure size 864x720 with 1 Axes>",
                        "image/png": "[encoded data removed]"
                    },
                    "metadata": {
                        "needs_background": "light"
                    }
                },
                {
                    "output_type": "execute_result",
                    "execution_count": 65,
                    "data": {
                        "text/plain": "<AxesSubplot:title={'center':'Scatter plot between sepallength & petallength '}, xlabel='SepalLengthCm', ylabel='PetalLengthCm'>"
                    },
                    "metadata": {}
                }
            ],
            "execution_count": 65
        },
        {
            "cell_type": "markdown",
            "source": [
                "# <span style=\"color: #008000;\">Applying Linear Regression</span>\n",
                "\n",
                "<span style=\"color: #008000;\">1) Model 1</span>"
            ],
            "metadata": {
                "azdata_cell_guid": "d4e70194-778b-4ba3-9b48-480f13e1ad08"
            },
            "attachments": {}
        },
        {
            "cell_type": "markdown",
            "source": [
                "<span style=\"color: #008000;\">a) Create an object named as y which is storing the dataframe of a dependent variable names as 'sepallengthcm'</span>"
            ],
            "metadata": {
                "azdata_cell_guid": "bfd6fb71-1ca2-4268-a3ed-b869a73a9736"
            },
            "attachments": {}
        },
        {
            "cell_type": "code",
            "source": [
                "y = df['sepallengthcm']"
            ],
            "metadata": {
                "azdata_cell_guid": "7f21f070-9667-48bb-a343-7be7f6694268"
            },
            "outputs": [],
            "execution_count": 85
        },
        {
            "cell_type": "markdown",
            "source": [
                "<span style=\"color: #008000;\">b) Create an object named as x which is storing the dataframe of an independent variable names as 'sepalwidthcm'</span>"
            ],
            "metadata": {
                "azdata_cell_guid": "1c664d22-5f4b-4251-8221-1ad836d4bb9c"
            },
            "attachments": {}
        },
        {
            "cell_type": "code",
            "source": [
                "x =  df['sepalwidthcm']"
            ],
            "metadata": {
                "azdata_cell_guid": "8ff14495-c879-4b7e-812c-e5f4c47d022f"
            },
            "outputs": [],
            "execution_count": null
        },
        {
            "cell_type": "markdown",
            "source": [
                "<span style=\"color: #008000;\">c) Divide the variables into x_train,x_test,y_train,y_test variables using train_test_split method carrying parameters named as x,y and test size should be 30%</span>"
            ],
            "metadata": {
                "azdata_cell_guid": "c5393ae0-531e-4ed8-8c67-dcfc88ddf99f"
            },
            "attachments": {}
        },
        {
            "cell_type": "code",
            "source": [
                "from sklearn.model_selection import train_test_split\n",
                "x_train, x_test, y_train, y_test = train_test_split (x, y, train_size=0.30)\n",
                ""
            ],
            "metadata": {
                "azdata_cell_guid": "3201a9dc-4b02-4641-8640-133b378b00b0",
                "tags": []
            },
            "outputs": [],
            "execution_count": null
        },
        {
            "cell_type": "markdown",
            "source": [
                "<span style=\"color: #008000;\">d) Show first five records of all four variables / objects</span>"
            ],
            "metadata": {
                "azdata_cell_guid": "da8b1b11-7fb4-47a1-8802-1ed7ee8ef08a"
            },
            "attachments": {}
        },
        {
            "cell_type": "code",
            "source": [
                "x_train.head()"
            ],
            "metadata": {
                "azdata_cell_guid": "b05e7c00-ac16-4b1e-adcd-ab90709ffd67"
            },
            "outputs": [],
            "execution_count": null
        },
        {
            "cell_type": "code",
            "source": [
                "y_train.head()"
            ],
            "metadata": {
                "azdata_cell_guid": "2d17f913-2d1b-4739-aca5-ad48930b5e60"
            },
            "outputs": [],
            "execution_count": null
        },
        {
            "cell_type": "code",
            "source": [
                "x_test.head()"
            ],
            "metadata": {
                "azdata_cell_guid": "5027b337-a44d-4050-87c4-95a8522c9e3b"
            },
            "outputs": [],
            "execution_count": null
        },
        {
            "cell_type": "code",
            "source": [
                "y_test.head()"
            ],
            "metadata": {
                "azdata_cell_guid": "2789b493-d762-4467-9403-1dd969cd28fc"
            },
            "outputs": [],
            "execution_count": null
        },
        {
            "cell_type": "markdown",
            "source": [
                "<span style=\"color: #008000;\">e) Create an object named as lr and assign memory from linearregression() method.</span>"
            ],
            "metadata": {
                "azdata_cell_guid": "12e912a0-d22d-40d6-9dc0-c43d48531435"
            },
            "attachments": {}
        },
        {
            "cell_type": "code",
            "source": [
                ""
            ],
            "metadata": {
                "azdata_cell_guid": "6e782d43-df61-46f8-928b-c6b18c82d223"
            },
            "outputs": [],
            "execution_count": null
        },
        {
            "cell_type": "markdown",
            "source": [
                "<span style=\"color: #008000;\">f) Fit both training set into fit method</span>"
            ],
            "metadata": {
                "azdata_cell_guid": "40d1c31d-f252-472b-8207-ccb993a92724"
            },
            "attachments": {}
        },
        {
            "cell_type": "code",
            "source": [
                ""
            ],
            "metadata": {
                "azdata_cell_guid": "8af09030-47ba-4100-a97e-f8b508b7ded6"
            },
            "outputs": [],
            "execution_count": null
        },
        {
            "cell_type": "markdown",
            "source": [
                "<span style=\"color: #008000;\">g) Predict x_test from predict method and store the result into y_pred obect</span>"
            ],
            "metadata": {
                "azdata_cell_guid": "6e17e71e-d292-4949-8a78-025cdbedce02"
            },
            "attachments": {}
        },
        {
            "cell_type": "code",
            "source": [
                ""
            ],
            "metadata": {
                "azdata_cell_guid": "1c195bfd-38b8-42fd-bbe1-24d425029b58"
            },
            "outputs": [],
            "execution_count": null
        },
        {
            "cell_type": "markdown",
            "source": [
                "<span style=\"color: #008000;\">h) Show first five records from actual and predicted objects */</span>"
            ],
            "metadata": {
                "azdata_cell_guid": "1926815b-c1f9-4d92-a419-3c805347c6c6"
            },
            "attachments": {}
        },
        {
            "cell_type": "code",
            "source": [
                ""
            ],
            "metadata": {
                "azdata_cell_guid": "cb75ec9c-6495-4e1e-bef5-7c2dfef41c7a"
            },
            "outputs": [],
            "execution_count": null
        },
        {
            "cell_type": "markdown",
            "source": [
                "<span style=\"color: #008000;\">i) Try to find out mean_squared_error in prediction using method after passing parameter as y_test and y_pred ,mind the result</span>"
            ],
            "metadata": {
                "azdata_cell_guid": "8d5463f7-9fef-492e-b018-b3af21844275"
            },
            "attachments": {}
        },
        {
            "cell_type": "code",
            "source": [
                ""
            ],
            "metadata": {
                "azdata_cell_guid": "00eaf2d5-eab9-40dc-8b36-7fa0e0d4ec6d"
            },
            "outputs": [],
            "execution_count": null
        }
    ]
}