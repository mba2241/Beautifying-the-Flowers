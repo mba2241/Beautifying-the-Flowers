{
    "metadata": {
        "kernelspec": {
            "name": "SQL",
            "display_name": "SQL",
            "language": "sql"
        },
        "language_info": {
            "name": "sql",
            "version": ""
        }
    },
    "nbformat_minor": 2,
    "nbformat": 4,
    "cells": [
        {
            "cell_type": "markdown",
            "source": [
                "# <span style=\"color: rgb(0, 128, 0); font-size: 12px;\">Beautifying the Flowers</span>\n",
                "\n",
                "<span style=\"color: #008000;\">This project is for a bit data manipulation and visualization and applying Linear Regression on a data set. Here we are using dataset as iris.csv.</span>\n",
                "\n",
                "<span style=\"color: #008000;\">This also has some requirements<br></span>"
            ],
            "metadata": {
                "azdata_cell_guid": "67e7f3a5-551b-43d9-a477-f81e476b496a"
            },
            "attachments": {}
        },
        {
            "cell_type": "markdown",
            "source": [
                "<span style=\"color: #008000;\">1. Import pandas , matplotlib , seaborn ,sklearn libraries</span>"
            ],
            "metadata": {
                "azdata_cell_guid": "047a1671-e6e5-4d4e-b1a0-6464580b21f6"
            },
            "attachments": {}
        },
        {
            "cell_type": "code",
            "source": [
                ""
            ],
            "metadata": {
                "azdata_cell_guid": "bb60bdbe-0677-4bab-90c6-029fa1171f06"
            },
            "outputs": [],
            "execution_count": null
        },
        {
            "cell_type": "markdown",
            "source": [
                "### <span style=\"color: #008000;\">2. Read csv file named as iris.csv</span>\n",
                "\n",
                "<span style=\"color: #008000;\">create a new database called \"iris_DB\",&nbsp;</span> <span style=\"color: rgb(0, 128, 0); font-family: -apple-system, BlinkMacSystemFont, sans-serif;\">use switches you into the database you specify</span>\n",
                "\n",
                "<span style=\"color: #008000;\"><br></span>"
            ],
            "metadata": {
                "azdata_cell_guid": "301ae7b0-2be9-48da-8b6e-bc7c53eb890c"
            },
            "attachments": {}
        },
        {
            "cell_type": "code",
            "source": [
                "CREATE DATABASE iris_DB;\n",
                "GO"
            ],
            "metadata": {
                "azdata_cell_guid": "deacb4ce-16f9-43ca-8d7b-fa0557af5d36"
            },
            "outputs": [
                {
                    "output_type": "error",
                    "ename": "",
                    "evalue": "Msg 1801, Level 16, State 3, Line 1\nDatabase 'iris_DB' already exists. Choose a different database name.",
                    "traceback": []
                },
                {
                    "output_type": "display_data",
                    "data": {
                        "text/html": "Total execution time: 00:00:00.002"
                    },
                    "metadata": {}
                }
            ],
            "execution_count": 1
        },
        {
            "cell_type": "code",
            "source": [
                "USE iris_DB;\n",
                "GO"
            ],
            "metadata": {
                "azdata_cell_guid": "bb4785a8-3837-49d5-8048-c48f2f53b45c"
            },
            "outputs": [
                {
                    "output_type": "display_data",
                    "data": {
                        "text/html": "Commands completed successfully."
                    },
                    "metadata": {}
                },
                {
                    "output_type": "display_data",
                    "data": {
                        "text/html": "Total execution time: 00:00:00.002"
                    },
                    "metadata": {}
                }
            ],
            "execution_count": 1
        },
        {
            "cell_type": "code",
            "source": [
                "SELECT \n",
                "    * \n",
                "FROM\n",
                "    dbo.iris ;\n",
                "GO"
            ],
            "metadata": {
                "azdata_cell_guid": "b960c69f-32e9-448e-9bdd-f8f467e8e941"
            },
            "outputs": [
                {
                    "output_type": "display_data",
                    "data": {
                        "text/html": "(150 rows affected)"
                    },
                    "metadata": {}
                },
                {
                    "output_type": "display_data",
                    "data": {
                        "text/html": "Total execution time: 00:00:00.036"
                    },
                    "metadata": {}
                },
                {
                    "output_type": "execute_result",
                    "execution_count": 2,
                    "data": {
                        "application/vnd.dataresource+json": {
                            "schema": {
                                "fields": [
                                    {
                                        "name": "Id"
                                    },
                                    {
                                        "name": "SepalLengthCm"
                                    },
                                    {
                                        "name": "SepalWidthCm"
                                    },
                                    {
                                        "name": "PetalLengthCm"
                                    },
                                    {
                                        "name": "PetalWidthCm"
                                    },
                                    {
                                        "name": "Species"
                                    }
                                ]
                            },
                            "data": [
                                {
                                    "0": "1",
                                    "1": "5.1",
                                    "2": "3.5",
                                    "3": "1.4",
                                    "4": "0.2",
                                    "5": "Iris-setosa"
                                },
                                {
                                    "0": "2",
                                    "1": "4.9",
                                    "2": "3",
                                    "3": "1.4",
                                    "4": "0.2",
                                    "5": "Iris-setosa"
                                },
                                {
                                    "0": "3",
                                    "1": "4.7",
                                    "2": "3.2",
                                    "3": "1.3",
                                    "4": "0.2",
                                    "5": "Iris-setosa"
                                },
                                {
                                    "0": "4",
                                    "1": "4.6",
                                    "2": "3.1",
                                    "3": "1.5",
                                    "4": "0.2",
                                    "5": "Iris-setosa"
                                },
                                {
                                    "0": "5",
                                    "1": "5",
                                    "2": "3.6",
                                    "3": "1.4",
                                    "4": "0.2",
                                    "5": "Iris-setosa"
                                },
                                {
                                    "0": "6",
                                    "1": "5.4",
                                    "2": "3.9",
                                    "3": "1.7",
                                    "4": "0.4",
                                    "5": "Iris-setosa"
                                },
                                {
                                    "0": "7",
                                    "1": "4.6",
                                    "2": "3.4",
                                    "3": "1.4",
                                    "4": "0.3",
                                    "5": "Iris-setosa"
                                },
                                {
                                    "0": "8",
                                    "1": "5",
                                    "2": "3.4",
                                    "3": "1.5",
                                    "4": "0.2",
                                    "5": "Iris-setosa"
                                },
                                {
                                    "0": "9",
                                    "1": "4.4",
                                    "2": "2.9",
                                    "3": "1.4",
                                    "4": "0.2",
                                    "5": "Iris-setosa"
                                },
                                {
                                    "0": "10",
                                    "1": "4.9",
                                    "2": "3.1",
                                    "3": "1.5",
                                    "4": "0.1",
                                    "5": "Iris-setosa"
                                },
                                {
                                    "0": "11",
                                    "1": "5.4",
                                    "2": "3.7",
                                    "3": "1.5",
                                    "4": "0.2",
                                    "5": "Iris-setosa"
                                },
                                {
                                    "0": "12",
                                    "1": "4.8",
                                    "2": "3.4",
                                    "3": "1.6",
                                    "4": "0.2",
                                    "5": "Iris-setosa"
                                },
                                {
                                    "0": "13",
                                    "1": "4.8",
                                    "2": "3",
                                    "3": "1.4",
                                    "4": "0.1",
                                    "5": "Iris-setosa"
                                },
                                {
                                    "0": "14",
                                    "1": "4.3",
                                    "2": "3",
                                    "3": "1.1",
                                    "4": "0.1",
                                    "5": "Iris-setosa"
                                },
                                {
                                    "0": "15",
                                    "1": "5.8",
                                    "2": "4",
                                    "3": "1.2",
                                    "4": "0.2",
                                    "5": "Iris-setosa"
                                },
                                {
                                    "0": "16",
                                    "1": "5.7",
                                    "2": "4.4",
                                    "3": "1.5",
                                    "4": "0.4",
                                    "5": "Iris-setosa"
                                },
                                {
                                    "0": "17",
                                    "1": "5.4",
                                    "2": "3.9",
                                    "3": "1.3",
                                    "4": "0.4",
                                    "5": "Iris-setosa"
                                },
                                {
                                    "0": "18",
                                    "1": "5.1",
                                    "2": "3.5",
                                    "3": "1.4",
                                    "4": "0.3",
                                    "5": "Iris-setosa"
                                },
                                {
                                    "0": "19",
                                    "1": "5.7",
                                    "2": "3.8",
                                    "3": "1.7",
                                    "4": "0.3",
                                    "5": "Iris-setosa"
                                },
                                {
                                    "0": "20",
                                    "1": "5.1",
                                    "2": "3.8",
                                    "3": "1.5",
                                    "4": "0.3",
                                    "5": "Iris-setosa"
                                },
                                {
                                    "0": "21",
                                    "1": "5.4",
                                    "2": "3.4",
                                    "3": "1.7",
                                    "4": "0.2",
                                    "5": "Iris-setosa"
                                },
                                {
                                    "0": "22",
                                    "1": "5.1",
                                    "2": "3.7",
                                    "3": "1.5",
                                    "4": "0.4",
                                    "5": "Iris-setosa"
                                },
                                {
                                    "0": "23",
                                    "1": "4.6",
                                    "2": "3.6",
                                    "3": "1",
                                    "4": "0.2",
                                    "5": "Iris-setosa"
                                },
                                {
                                    "0": "24",
                                    "1": "5.1",
                                    "2": "3.3",
                                    "3": "1.7",
                                    "4": "0.5",
                                    "5": "Iris-setosa"
                                },
                                {
                                    "0": "25",
                                    "1": "4.8",
                                    "2": "3.4",
                                    "3": "1.9",
                                    "4": "0.2",
                                    "5": "Iris-setosa"
                                },
                                {
                                    "0": "26",
                                    "1": "5",
                                    "2": "3",
                                    "3": "1.6",
                                    "4": "0.2",
                                    "5": "Iris-setosa"
                                },
                                {
                                    "0": "27",
                                    "1": "5",
                                    "2": "3.4",
                                    "3": "1.6",
                                    "4": "0.4",
                                    "5": "Iris-setosa"
                                },
                                {
                                    "0": "28",
                                    "1": "5.2",
                                    "2": "3.5",
                                    "3": "1.5",
                                    "4": "0.2",
                                    "5": "Iris-setosa"
                                },
                                {
                                    "0": "29",
                                    "1": "5.2",
                                    "2": "3.4",
                                    "3": "1.4",
                                    "4": "0.2",
                                    "5": "Iris-setosa"
                                },
                                {
                                    "0": "30",
                                    "1": "4.7",
                                    "2": "3.2",
                                    "3": "1.6",
                                    "4": "0.2",
                                    "5": "Iris-setosa"
                                },
                                {
                                    "0": "31",
                                    "1": "4.8",
                                    "2": "3.1",
                                    "3": "1.6",
                                    "4": "0.2",
                                    "5": "Iris-setosa"
                                },
                                {
                                    "0": "32",
                                    "1": "5.4",
                                    "2": "3.4",
                                    "3": "1.5",
                                    "4": "0.4",
                                    "5": "Iris-setosa"
                                },
                                {
                                    "0": "33",
                                    "1": "5.2",
                                    "2": "4.1",
                                    "3": "1.5",
                                    "4": "0.1",
                                    "5": "Iris-setosa"
                                },
                                {
                                    "0": "34",
                                    "1": "5.5",
                                    "2": "4.2",
                                    "3": "1.4",
                                    "4": "0.2",
                                    "5": "Iris-setosa"
                                },
                                {
                                    "0": "35",
                                    "1": "4.9",
                                    "2": "3.1",
                                    "3": "1.5",
                                    "4": "0.1",
                                    "5": "Iris-setosa"
                                },
                                {
                                    "0": "36",
                                    "1": "5",
                                    "2": "3.2",
                                    "3": "1.2",
                                    "4": "0.2",
                                    "5": "Iris-setosa"
                                },
                                {
                                    "0": "37",
                                    "1": "5.5",
                                    "2": "3.5",
                                    "3": "1.3",
                                    "4": "0.2",
                                    "5": "Iris-setosa"
                                },
                                {
                                    "0": "38",
                                    "1": "4.9",
                                    "2": "3.1",
                                    "3": "1.5",
                                    "4": "0.1",
                                    "5": "Iris-setosa"
                                },
                                {
                                    "0": "39",
                                    "1": "4.4",
                                    "2": "3",
                                    "3": "1.3",
                                    "4": "0.2",
                                    "5": "Iris-setosa"
                                },
                                {
                                    "0": "40",
                                    "1": "5.1",
                                    "2": "3.4",
                                    "3": "1.5",
                                    "4": "0.2",
                                    "5": "Iris-setosa"
                                },
                                {
                                    "0": "41",
                                    "1": "5",
                                    "2": "3.5",
                                    "3": "1.3",
                                    "4": "0.3",
                                    "5": "Iris-setosa"
                                },
                                {
                                    "0": "42",
                                    "1": "4.5",
                                    "2": "2.3",
                                    "3": "1.3",
                                    "4": "0.3",
                                    "5": "Iris-setosa"
                                },
                                {
                                    "0": "43",
                                    "1": "4.4",
                                    "2": "3.2",
                                    "3": "1.3",
                                    "4": "0.2",
                                    "5": "Iris-setosa"
                                },
                                {
                                    "0": "44",
                                    "1": "5",
                                    "2": "3.5",
                                    "3": "1.6",
                                    "4": "0.6",
                                    "5": "Iris-setosa"
                                },
                                {
                                    "0": "45",
                                    "1": "5.1",
                                    "2": "3.8",
                                    "3": "1.9",
                                    "4": "0.4",
                                    "5": "Iris-setosa"
                                },
                                {
                                    "0": "46",
                                    "1": "4.8",
                                    "2": "3",
                                    "3": "1.4",
                                    "4": "0.3",
                                    "5": "Iris-setosa"
                                },
                                {
                                    "0": "47",
                                    "1": "5.1",
                                    "2": "3.8",
                                    "3": "1.6",
                                    "4": "0.2",
                                    "5": "Iris-setosa"
                                },
                                {
                                    "0": "48",
                                    "1": "4.6",
                                    "2": "3.2",
                                    "3": "1.4",
                                    "4": "0.2",
                                    "5": "Iris-setosa"
                                },
                                {
                                    "0": "49",
                                    "1": "5.3",
                                    "2": "3.7",
                                    "3": "1.5",
                                    "4": "0.2",
                                    "5": "Iris-setosa"
                                },
                                {
                                    "0": "50",
                                    "1": "5",
                                    "2": "3.3",
                                    "3": "1.4",
                                    "4": "0.2",
                                    "5": "Iris-setosa"
                                },
                                {
                                    "0": "51",
                                    "1": "7",
                                    "2": "3.2",
                                    "3": "4.7",
                                    "4": "1.4",
                                    "5": "Iris-versicolor"
                                },
                                {
                                    "0": "52",
                                    "1": "6.4",
                                    "2": "3.2",
                                    "3": "4.5",
                                    "4": "1.5",
                                    "5": "Iris-versicolor"
                                },
                                {
                                    "0": "53",
                                    "1": "6.9",
                                    "2": "3.1",
                                    "3": "4.9",
                                    "4": "1.5",
                                    "5": "Iris-versicolor"
                                },
                                {
                                    "0": "54",
                                    "1": "5.5",
                                    "2": "2.3",
                                    "3": "4",
                                    "4": "1.3",
                                    "5": "Iris-versicolor"
                                },
                                {
                                    "0": "55",
                                    "1": "6.5",
                                    "2": "2.8",
                                    "3": "4.6",
                                    "4": "1.5",
                                    "5": "Iris-versicolor"
                                },
                                {
                                    "0": "56",
                                    "1": "5.7",
                                    "2": "2.8",
                                    "3": "4.5",
                                    "4": "1.3",
                                    "5": "Iris-versicolor"
                                },
                                {
                                    "0": "57",
                                    "1": "6.3",
                                    "2": "3.3",
                                    "3": "4.7",
                                    "4": "1.6",
                                    "5": "Iris-versicolor"
                                },
                                {
                                    "0": "58",
                                    "1": "4.9",
                                    "2": "2.4",
                                    "3": "3.3",
                                    "4": "1",
                                    "5": "Iris-versicolor"
                                },
                                {
                                    "0": "59",
                                    "1": "6.6",
                                    "2": "2.9",
                                    "3": "4.6",
                                    "4": "1.3",
                                    "5": "Iris-versicolor"
                                },
                                {
                                    "0": "60",
                                    "1": "5.2",
                                    "2": "2.7",
                                    "3": "3.9",
                                    "4": "1.4",
                                    "5": "Iris-versicolor"
                                },
                                {
                                    "0": "61",
                                    "1": "5",
                                    "2": "2",
                                    "3": "3.5",
                                    "4": "1",
                                    "5": "Iris-versicolor"
                                },
                                {
                                    "0": "62",
                                    "1": "5.9",
                                    "2": "3",
                                    "3": "4.2",
                                    "4": "1.5",
                                    "5": "Iris-versicolor"
                                },
                                {
                                    "0": "63",
                                    "1": "6",
                                    "2": "2.2",
                                    "3": "4",
                                    "4": "1",
                                    "5": "Iris-versicolor"
                                },
                                {
                                    "0": "64",
                                    "1": "6.1",
                                    "2": "2.9",
                                    "3": "4.7",
                                    "4": "1.4",
                                    "5": "Iris-versicolor"
                                },
                                {
                                    "0": "65",
                                    "1": "5.6",
                                    "2": "2.9",
                                    "3": "3.6",
                                    "4": "1.3",
                                    "5": "Iris-versicolor"
                                },
                                {
                                    "0": "66",
                                    "1": "6.7",
                                    "2": "3.1",
                                    "3": "4.4",
                                    "4": "1.4",
                                    "5": "Iris-versicolor"
                                },
                                {
                                    "0": "67",
                                    "1": "5.6",
                                    "2": "3",
                                    "3": "4.5",
                                    "4": "1.5",
                                    "5": "Iris-versicolor"
                                },
                                {
                                    "0": "68",
                                    "1": "5.8",
                                    "2": "2.7",
                                    "3": "4.1",
                                    "4": "1",
                                    "5": "Iris-versicolor"
                                },
                                {
                                    "0": "69",
                                    "1": "6.2",
                                    "2": "2.2",
                                    "3": "4.5",
                                    "4": "1.5",
                                    "5": "Iris-versicolor"
                                },
                                {
                                    "0": "70",
                                    "1": "5.6",
                                    "2": "2.5",
                                    "3": "3.9",
                                    "4": "1.1",
                                    "5": "Iris-versicolor"
                                },
                                {
                                    "0": "71",
                                    "1": "5.9",
                                    "2": "3.2",
                                    "3": "4.8",
                                    "4": "1.8",
                                    "5": "Iris-versicolor"
                                },
                                {
                                    "0": "72",
                                    "1": "6.1",
                                    "2": "2.8",
                                    "3": "4",
                                    "4": "1.3",
                                    "5": "Iris-versicolor"
                                },
                                {
                                    "0": "73",
                                    "1": "6.3",
                                    "2": "2.5",
                                    "3": "4.9",
                                    "4": "1.5",
                                    "5": "Iris-versicolor"
                                },
                                {
                                    "0": "74",
                                    "1": "6.1",
                                    "2": "2.8",
                                    "3": "4.7",
                                    "4": "1.2",
                                    "5": "Iris-versicolor"
                                },
                                {
                                    "0": "75",
                                    "1": "6.4",
                                    "2": "2.9",
                                    "3": "4.3",
                                    "4": "1.3",
                                    "5": "Iris-versicolor"
                                },
                                {
                                    "0": "76",
                                    "1": "6.6",
                                    "2": "3",
                                    "3": "4.4",
                                    "4": "1.4",
                                    "5": "Iris-versicolor"
                                },
                                {
                                    "0": "77",
                                    "1": "6.8",
                                    "2": "2.8",
                                    "3": "4.8",
                                    "4": "1.4",
                                    "5": "Iris-versicolor"
                                },
                                {
                                    "0": "78",
                                    "1": "6.7",
                                    "2": "3",
                                    "3": "5",
                                    "4": "1.7",
                                    "5": "Iris-versicolor"
                                },
                                {
                                    "0": "79",
                                    "1": "6",
                                    "2": "2.9",
                                    "3": "4.5",
                                    "4": "1.5",
                                    "5": "Iris-versicolor"
                                },
                                {
                                    "0": "80",
                                    "1": "5.7",
                                    "2": "2.6",
                                    "3": "3.5",
                                    "4": "1",
                                    "5": "Iris-versicolor"
                                },
                                {
                                    "0": "81",
                                    "1": "5.5",
                                    "2": "2.4",
                                    "3": "3.8",
                                    "4": "1.1",
                                    "5": "Iris-versicolor"
                                },
                                {
                                    "0": "82",
                                    "1": "5.5",
                                    "2": "2.4",
                                    "3": "3.7",
                                    "4": "1",
                                    "5": "Iris-versicolor"
                                },
                                {
                                    "0": "83",
                                    "1": "5.8",
                                    "2": "2.7",
                                    "3": "3.9",
                                    "4": "1.2",
                                    "5": "Iris-versicolor"
                                },
                                {
                                    "0": "84",
                                    "1": "6",
                                    "2": "2.7",
                                    "3": "5.1",
                                    "4": "1.6",
                                    "5": "Iris-versicolor"
                                },
                                {
                                    "0": "85",
                                    "1": "5.4",
                                    "2": "3",
                                    "3": "4.5",
                                    "4": "1.5",
                                    "5": "Iris-versicolor"
                                },
                                {
                                    "0": "86",
                                    "1": "6",
                                    "2": "3.4",
                                    "3": "4.5",
                                    "4": "1.6",
                                    "5": "Iris-versicolor"
                                },
                                {
                                    "0": "87",
                                    "1": "6.7",
                                    "2": "3.1",
                                    "3": "4.7",
                                    "4": "1.5",
                                    "5": "Iris-versicolor"
                                },
                                {
                                    "0": "88",
                                    "1": "6.3",
                                    "2": "2.3",
                                    "3": "4.4",
                                    "4": "1.3",
                                    "5": "Iris-versicolor"
                                },
                                {
                                    "0": "89",
                                    "1": "5.6",
                                    "2": "3",
                                    "3": "4.1",
                                    "4": "1.3",
                                    "5": "Iris-versicolor"
                                },
                                {
                                    "0": "90",
                                    "1": "5.5",
                                    "2": "2.5",
                                    "3": "4",
                                    "4": "1.3",
                                    "5": "Iris-versicolor"
                                },
                                {
                                    "0": "91",
                                    "1": "5.5",
                                    "2": "2.6",
                                    "3": "4.4",
                                    "4": "1.2",
                                    "5": "Iris-versicolor"
                                },
                                {
                                    "0": "92",
                                    "1": "6.1",
                                    "2": "3",
                                    "3": "4.6",
                                    "4": "1.4",
                                    "5": "Iris-versicolor"
                                },
                                {
                                    "0": "93",
                                    "1": "5.8",
                                    "2": "2.6",
                                    "3": "4",
                                    "4": "1.2",
                                    "5": "Iris-versicolor"
                                },
                                {
                                    "0": "94",
                                    "1": "5",
                                    "2": "2.3",
                                    "3": "3.3",
                                    "4": "1",
                                    "5": "Iris-versicolor"
                                },
                                {
                                    "0": "95",
                                    "1": "5.6",
                                    "2": "2.7",
                                    "3": "4.2",
                                    "4": "1.3",
                                    "5": "Iris-versicolor"
                                },
                                {
                                    "0": "96",
                                    "1": "5.7",
                                    "2": "3",
                                    "3": "4.2",
                                    "4": "1.2",
                                    "5": "Iris-versicolor"
                                },
                                {
                                    "0": "97",
                                    "1": "5.7",
                                    "2": "2.9",
                                    "3": "4.2",
                                    "4": "1.3",
                                    "5": "Iris-versicolor"
                                },
                                {
                                    "0": "98",
                                    "1": "6.2",
                                    "2": "2.9",
                                    "3": "4.3",
                                    "4": "1.3",
                                    "5": "Iris-versicolor"
                                },
                                {
                                    "0": "99",
                                    "1": "5.1",
                                    "2": "2.5",
                                    "3": "3",
                                    "4": "1.1",
                                    "5": "Iris-versicolor"
                                },
                                {
                                    "0": "100",
                                    "1": "5.7",
                                    "2": "2.8",
                                    "3": "4.1",
                                    "4": "1.3",
                                    "5": "Iris-versicolor"
                                },
                                {
                                    "0": "101",
                                    "1": "6.3",
                                    "2": "3.3",
                                    "3": "6",
                                    "4": "2.5",
                                    "5": "Iris-virginica"
                                },
                                {
                                    "0": "102",
                                    "1": "5.8",
                                    "2": "2.7",
                                    "3": "5.1",
                                    "4": "1.9",
                                    "5": "Iris-virginica"
                                },
                                {
                                    "0": "103",
                                    "1": "7.1",
                                    "2": "3",
                                    "3": "5.9",
                                    "4": "2.1",
                                    "5": "Iris-virginica"
                                },
                                {
                                    "0": "104",
                                    "1": "6.3",
                                    "2": "2.9",
                                    "3": "5.6",
                                    "4": "1.8",
                                    "5": "Iris-virginica"
                                },
                                {
                                    "0": "105",
                                    "1": "6.5",
                                    "2": "3",
                                    "3": "5.8",
                                    "4": "2.2",
                                    "5": "Iris-virginica"
                                },
                                {
                                    "0": "106",
                                    "1": "7.6",
                                    "2": "3",
                                    "3": "6.6",
                                    "4": "2.1",
                                    "5": "Iris-virginica"
                                },
                                {
                                    "0": "107",
                                    "1": "4.9",
                                    "2": "2.5",
                                    "3": "4.5",
                                    "4": "1.7",
                                    "5": "Iris-virginica"
                                },
                                {
                                    "0": "108",
                                    "1": "7.3",
                                    "2": "2.9",
                                    "3": "6.3",
                                    "4": "1.8",
                                    "5": "Iris-virginica"
                                },
                                {
                                    "0": "109",
                                    "1": "6.7",
                                    "2": "2.5",
                                    "3": "5.8",
                                    "4": "1.8",
                                    "5": "Iris-virginica"
                                },
                                {
                                    "0": "110",
                                    "1": "7.2",
                                    "2": "3.6",
                                    "3": "6.1",
                                    "4": "2.5",
                                    "5": "Iris-virginica"
                                },
                                {
                                    "0": "111",
                                    "1": "6.5",
                                    "2": "3.2",
                                    "3": "5.1",
                                    "4": "2",
                                    "5": "Iris-virginica"
                                },
                                {
                                    "0": "112",
                                    "1": "6.4",
                                    "2": "2.7",
                                    "3": "5.3",
                                    "4": "1.9",
                                    "5": "Iris-virginica"
                                },
                                {
                                    "0": "113",
                                    "1": "6.8",
                                    "2": "3",
                                    "3": "5.5",
                                    "4": "2.1",
                                    "5": "Iris-virginica"
                                },
                                {
                                    "0": "114",
                                    "1": "5.7",
                                    "2": "2.5",
                                    "3": "5",
                                    "4": "2",
                                    "5": "Iris-virginica"
                                },
                                {
                                    "0": "115",
                                    "1": "5.8",
                                    "2": "2.8",
                                    "3": "5.1",
                                    "4": "2.4",
                                    "5": "Iris-virginica"
                                },
                                {
                                    "0": "116",
                                    "1": "6.4",
                                    "2": "3.2",
                                    "3": "5.3",
                                    "4": "2.3",
                                    "5": "Iris-virginica"
                                },
                                {
                                    "0": "117",
                                    "1": "6.5",
                                    "2": "3",
                                    "3": "5.5",
                                    "4": "1.8",
                                    "5": "Iris-virginica"
                                },
                                {
                                    "0": "118",
                                    "1": "7.7",
                                    "2": "3.8",
                                    "3": "6.7",
                                    "4": "2.2",
                                    "5": "Iris-virginica"
                                },
                                {
                                    "0": "119",
                                    "1": "7.7",
                                    "2": "2.6",
                                    "3": "6.9",
                                    "4": "2.3",
                                    "5": "Iris-virginica"
                                },
                                {
                                    "0": "120",
                                    "1": "6",
                                    "2": "2.2",
                                    "3": "5",
                                    "4": "1.5",
                                    "5": "Iris-virginica"
                                },
                                {
                                    "0": "121",
                                    "1": "6.9",
                                    "2": "3.2",
                                    "3": "5.7",
                                    "4": "2.3",
                                    "5": "Iris-virginica"
                                },
                                {
                                    "0": "122",
                                    "1": "5.6",
                                    "2": "2.8",
                                    "3": "4.9",
                                    "4": "2",
                                    "5": "Iris-virginica"
                                },
                                {
                                    "0": "123",
                                    "1": "7.7",
                                    "2": "2.8",
                                    "3": "6.7",
                                    "4": "2",
                                    "5": "Iris-virginica"
                                },
                                {
                                    "0": "124",
                                    "1": "6.3",
                                    "2": "2.7",
                                    "3": "4.9",
                                    "4": "1.8",
                                    "5": "Iris-virginica"
                                },
                                {
                                    "0": "125",
                                    "1": "6.7",
                                    "2": "3.3",
                                    "3": "5.7",
                                    "4": "2.1",
                                    "5": "Iris-virginica"
                                },
                                {
                                    "0": "126",
                                    "1": "7.2",
                                    "2": "3.2",
                                    "3": "6",
                                    "4": "1.8",
                                    "5": "Iris-virginica"
                                },
                                {
                                    "0": "127",
                                    "1": "6.2",
                                    "2": "2.8",
                                    "3": "4.8",
                                    "4": "1.8",
                                    "5": "Iris-virginica"
                                },
                                {
                                    "0": "128",
                                    "1": "6.1",
                                    "2": "3",
                                    "3": "4.9",
                                    "4": "1.8",
                                    "5": "Iris-virginica"
                                },
                                {
                                    "0": "129",
                                    "1": "6.4",
                                    "2": "2.8",
                                    "3": "5.6",
                                    "4": "2.1",
                                    "5": "Iris-virginica"
                                },
                                {
                                    "0": "130",
                                    "1": "7.2",
                                    "2": "3",
                                    "3": "5.8",
                                    "4": "1.6",
                                    "5": "Iris-virginica"
                                },
                                {
                                    "0": "131",
                                    "1": "7.4",
                                    "2": "2.8",
                                    "3": "6.1",
                                    "4": "1.9",
                                    "5": "Iris-virginica"
                                },
                                {
                                    "0": "132",
                                    "1": "7.9",
                                    "2": "3.8",
                                    "3": "6.4",
                                    "4": "2",
                                    "5": "Iris-virginica"
                                },
                                {
                                    "0": "133",
                                    "1": "6.4",
                                    "2": "2.8",
                                    "3": "5.6",
                                    "4": "2.2",
                                    "5": "Iris-virginica"
                                },
                                {
                                    "0": "134",
                                    "1": "6.3",
                                    "2": "2.8",
                                    "3": "5.1",
                                    "4": "1.5",
                                    "5": "Iris-virginica"
                                },
                                {
                                    "0": "135",
                                    "1": "6.1",
                                    "2": "2.6",
                                    "3": "5.6",
                                    "4": "1.4",
                                    "5": "Iris-virginica"
                                },
                                {
                                    "0": "136",
                                    "1": "7.7",
                                    "2": "3",
                                    "3": "6.1",
                                    "4": "2.3",
                                    "5": "Iris-virginica"
                                },
                                {
                                    "0": "137",
                                    "1": "6.3",
                                    "2": "3.4",
                                    "3": "5.6",
                                    "4": "2.4",
                                    "5": "Iris-virginica"
                                },
                                {
                                    "0": "138",
                                    "1": "6.4",
                                    "2": "3.1",
                                    "3": "5.5",
                                    "4": "1.8",
                                    "5": "Iris-virginica"
                                },
                                {
                                    "0": "139",
                                    "1": "6",
                                    "2": "3",
                                    "3": "4.8",
                                    "4": "1.8",
                                    "5": "Iris-virginica"
                                },
                                {
                                    "0": "140",
                                    "1": "6.9",
                                    "2": "3.1",
                                    "3": "5.4",
                                    "4": "2.1",
                                    "5": "Iris-virginica"
                                },
                                {
                                    "0": "141",
                                    "1": "6.7",
                                    "2": "3.1",
                                    "3": "5.6",
                                    "4": "2.4",
                                    "5": "Iris-virginica"
                                },
                                {
                                    "0": "142",
                                    "1": "6.9",
                                    "2": "3.1",
                                    "3": "5.1",
                                    "4": "2.3",
                                    "5": "Iris-virginica"
                                },
                                {
                                    "0": "143",
                                    "1": "5.8",
                                    "2": "2.7",
                                    "3": "5.1",
                                    "4": "1.9",
                                    "5": "Iris-virginica"
                                },
                                {
                                    "0": "144",
                                    "1": "6.8",
                                    "2": "3.2",
                                    "3": "5.9",
                                    "4": "2.3",
                                    "5": "Iris-virginica"
                                },
                                {
                                    "0": "145",
                                    "1": "6.7",
                                    "2": "3.3",
                                    "3": "5.7",
                                    "4": "2.5",
                                    "5": "Iris-virginica"
                                },
                                {
                                    "0": "146",
                                    "1": "6.7",
                                    "2": "3",
                                    "3": "5.2",
                                    "4": "2.3",
                                    "5": "Iris-virginica"
                                },
                                {
                                    "0": "147",
                                    "1": "6.3",
                                    "2": "2.5",
                                    "3": "5",
                                    "4": "1.9",
                                    "5": "Iris-virginica"
                                },
                                {
                                    "0": "148",
                                    "1": "6.5",
                                    "2": "3",
                                    "3": "5.2",
                                    "4": "2",
                                    "5": "Iris-virginica"
                                },
                                {
                                    "0": "149",
                                    "1": "6.2",
                                    "2": "3.4",
                                    "3": "5.4",
                                    "4": "2.3",
                                    "5": "Iris-virginica"
                                },
                                {
                                    "0": "150",
                                    "1": "5.9",
                                    "2": "3",
                                    "3": "5.1",
                                    "4": "1.8",
                                    "5": "Iris-virginica"
                                }
                            ]
                        },
                        "text/html": "<table><tr><th>Id</th><th>SepalLengthCm</th><th>SepalWidthCm</th><th>PetalLengthCm</th><th>PetalWidthCm</th><th>Species</th></tr><tr><td>1</td><td>5.1</td><td>3.5</td><td>1.4</td><td>0.2</td><td>Iris-setosa</td></tr><tr><td>2</td><td>4.9</td><td>3</td><td>1.4</td><td>0.2</td><td>Iris-setosa</td></tr><tr><td>3</td><td>4.7</td><td>3.2</td><td>1.3</td><td>0.2</td><td>Iris-setosa</td></tr><tr><td>4</td><td>4.6</td><td>3.1</td><td>1.5</td><td>0.2</td><td>Iris-setosa</td></tr><tr><td>5</td><td>5</td><td>3.6</td><td>1.4</td><td>0.2</td><td>Iris-setosa</td></tr><tr><td>6</td><td>5.4</td><td>3.9</td><td>1.7</td><td>0.4</td><td>Iris-setosa</td></tr><tr><td>7</td><td>4.6</td><td>3.4</td><td>1.4</td><td>0.3</td><td>Iris-setosa</td></tr><tr><td>8</td><td>5</td><td>3.4</td><td>1.5</td><td>0.2</td><td>Iris-setosa</td></tr><tr><td>9</td><td>4.4</td><td>2.9</td><td>1.4</td><td>0.2</td><td>Iris-setosa</td></tr><tr><td>10</td><td>4.9</td><td>3.1</td><td>1.5</td><td>0.1</td><td>Iris-setosa</td></tr><tr><td>11</td><td>5.4</td><td>3.7</td><td>1.5</td><td>0.2</td><td>Iris-setosa</td></tr><tr><td>12</td><td>4.8</td><td>3.4</td><td>1.6</td><td>0.2</td><td>Iris-setosa</td></tr><tr><td>13</td><td>4.8</td><td>3</td><td>1.4</td><td>0.1</td><td>Iris-setosa</td></tr><tr><td>14</td><td>4.3</td><td>3</td><td>1.1</td><td>0.1</td><td>Iris-setosa</td></tr><tr><td>15</td><td>5.8</td><td>4</td><td>1.2</td><td>0.2</td><td>Iris-setosa</td></tr><tr><td>16</td><td>5.7</td><td>4.4</td><td>1.5</td><td>0.4</td><td>Iris-setosa</td></tr><tr><td>17</td><td>5.4</td><td>3.9</td><td>1.3</td><td>0.4</td><td>Iris-setosa</td></tr><tr><td>18</td><td>5.1</td><td>3.5</td><td>1.4</td><td>0.3</td><td>Iris-setosa</td></tr><tr><td>19</td><td>5.7</td><td>3.8</td><td>1.7</td><td>0.3</td><td>Iris-setosa</td></tr><tr><td>20</td><td>5.1</td><td>3.8</td><td>1.5</td><td>0.3</td><td>Iris-setosa</td></tr><tr><td>21</td><td>5.4</td><td>3.4</td><td>1.7</td><td>0.2</td><td>Iris-setosa</td></tr><tr><td>22</td><td>5.1</td><td>3.7</td><td>1.5</td><td>0.4</td><td>Iris-setosa</td></tr><tr><td>23</td><td>4.6</td><td>3.6</td><td>1</td><td>0.2</td><td>Iris-setosa</td></tr><tr><td>24</td><td>5.1</td><td>3.3</td><td>1.7</td><td>0.5</td><td>Iris-setosa</td></tr><tr><td>25</td><td>4.8</td><td>3.4</td><td>1.9</td><td>0.2</td><td>Iris-setosa</td></tr><tr><td>26</td><td>5</td><td>3</td><td>1.6</td><td>0.2</td><td>Iris-setosa</td></tr><tr><td>27</td><td>5</td><td>3.4</td><td>1.6</td><td>0.4</td><td>Iris-setosa</td></tr><tr><td>28</td><td>5.2</td><td>3.5</td><td>1.5</td><td>0.2</td><td>Iris-setosa</td></tr><tr><td>29</td><td>5.2</td><td>3.4</td><td>1.4</td><td>0.2</td><td>Iris-setosa</td></tr><tr><td>30</td><td>4.7</td><td>3.2</td><td>1.6</td><td>0.2</td><td>Iris-setosa</td></tr><tr><td>31</td><td>4.8</td><td>3.1</td><td>1.6</td><td>0.2</td><td>Iris-setosa</td></tr><tr><td>32</td><td>5.4</td><td>3.4</td><td>1.5</td><td>0.4</td><td>Iris-setosa</td></tr><tr><td>33</td><td>5.2</td><td>4.1</td><td>1.5</td><td>0.1</td><td>Iris-setosa</td></tr><tr><td>34</td><td>5.5</td><td>4.2</td><td>1.4</td><td>0.2</td><td>Iris-setosa</td></tr><tr><td>35</td><td>4.9</td><td>3.1</td><td>1.5</td><td>0.1</td><td>Iris-setosa</td></tr><tr><td>36</td><td>5</td><td>3.2</td><td>1.2</td><td>0.2</td><td>Iris-setosa</td></tr><tr><td>37</td><td>5.5</td><td>3.5</td><td>1.3</td><td>0.2</td><td>Iris-setosa</td></tr><tr><td>38</td><td>4.9</td><td>3.1</td><td>1.5</td><td>0.1</td><td>Iris-setosa</td></tr><tr><td>39</td><td>4.4</td><td>3</td><td>1.3</td><td>0.2</td><td>Iris-setosa</td></tr><tr><td>40</td><td>5.1</td><td>3.4</td><td>1.5</td><td>0.2</td><td>Iris-setosa</td></tr><tr><td>41</td><td>5</td><td>3.5</td><td>1.3</td><td>0.3</td><td>Iris-setosa</td></tr><tr><td>42</td><td>4.5</td><td>2.3</td><td>1.3</td><td>0.3</td><td>Iris-setosa</td></tr><tr><td>43</td><td>4.4</td><td>3.2</td><td>1.3</td><td>0.2</td><td>Iris-setosa</td></tr><tr><td>44</td><td>5</td><td>3.5</td><td>1.6</td><td>0.6</td><td>Iris-setosa</td></tr><tr><td>45</td><td>5.1</td><td>3.8</td><td>1.9</td><td>0.4</td><td>Iris-setosa</td></tr><tr><td>46</td><td>4.8</td><td>3</td><td>1.4</td><td>0.3</td><td>Iris-setosa</td></tr><tr><td>47</td><td>5.1</td><td>3.8</td><td>1.6</td><td>0.2</td><td>Iris-setosa</td></tr><tr><td>48</td><td>4.6</td><td>3.2</td><td>1.4</td><td>0.2</td><td>Iris-setosa</td></tr><tr><td>49</td><td>5.3</td><td>3.7</td><td>1.5</td><td>0.2</td><td>Iris-setosa</td></tr><tr><td>50</td><td>5</td><td>3.3</td><td>1.4</td><td>0.2</td><td>Iris-setosa</td></tr><tr><td>51</td><td>7</td><td>3.2</td><td>4.7</td><td>1.4</td><td>Iris-versicolor</td></tr><tr><td>52</td><td>6.4</td><td>3.2</td><td>4.5</td><td>1.5</td><td>Iris-versicolor</td></tr><tr><td>53</td><td>6.9</td><td>3.1</td><td>4.9</td><td>1.5</td><td>Iris-versicolor</td></tr><tr><td>54</td><td>5.5</td><td>2.3</td><td>4</td><td>1.3</td><td>Iris-versicolor</td></tr><tr><td>55</td><td>6.5</td><td>2.8</td><td>4.6</td><td>1.5</td><td>Iris-versicolor</td></tr><tr><td>56</td><td>5.7</td><td>2.8</td><td>4.5</td><td>1.3</td><td>Iris-versicolor</td></tr><tr><td>57</td><td>6.3</td><td>3.3</td><td>4.7</td><td>1.6</td><td>Iris-versicolor</td></tr><tr><td>58</td><td>4.9</td><td>2.4</td><td>3.3</td><td>1</td><td>Iris-versicolor</td></tr><tr><td>59</td><td>6.6</td><td>2.9</td><td>4.6</td><td>1.3</td><td>Iris-versicolor</td></tr><tr><td>60</td><td>5.2</td><td>2.7</td><td>3.9</td><td>1.4</td><td>Iris-versicolor</td></tr><tr><td>61</td><td>5</td><td>2</td><td>3.5</td><td>1</td><td>Iris-versicolor</td></tr><tr><td>62</td><td>5.9</td><td>3</td><td>4.2</td><td>1.5</td><td>Iris-versicolor</td></tr><tr><td>63</td><td>6</td><td>2.2</td><td>4</td><td>1</td><td>Iris-versicolor</td></tr><tr><td>64</td><td>6.1</td><td>2.9</td><td>4.7</td><td>1.4</td><td>Iris-versicolor</td></tr><tr><td>65</td><td>5.6</td><td>2.9</td><td>3.6</td><td>1.3</td><td>Iris-versicolor</td></tr><tr><td>66</td><td>6.7</td><td>3.1</td><td>4.4</td><td>1.4</td><td>Iris-versicolor</td></tr><tr><td>67</td><td>5.6</td><td>3</td><td>4.5</td><td>1.5</td><td>Iris-versicolor</td></tr><tr><td>68</td><td>5.8</td><td>2.7</td><td>4.1</td><td>1</td><td>Iris-versicolor</td></tr><tr><td>69</td><td>6.2</td><td>2.2</td><td>4.5</td><td>1.5</td><td>Iris-versicolor</td></tr><tr><td>70</td><td>5.6</td><td>2.5</td><td>3.9</td><td>1.1</td><td>Iris-versicolor</td></tr><tr><td>71</td><td>5.9</td><td>3.2</td><td>4.8</td><td>1.8</td><td>Iris-versicolor</td></tr><tr><td>72</td><td>6.1</td><td>2.8</td><td>4</td><td>1.3</td><td>Iris-versicolor</td></tr><tr><td>73</td><td>6.3</td><td>2.5</td><td>4.9</td><td>1.5</td><td>Iris-versicolor</td></tr><tr><td>74</td><td>6.1</td><td>2.8</td><td>4.7</td><td>1.2</td><td>Iris-versicolor</td></tr><tr><td>75</td><td>6.4</td><td>2.9</td><td>4.3</td><td>1.3</td><td>Iris-versicolor</td></tr><tr><td>76</td><td>6.6</td><td>3</td><td>4.4</td><td>1.4</td><td>Iris-versicolor</td></tr><tr><td>77</td><td>6.8</td><td>2.8</td><td>4.8</td><td>1.4</td><td>Iris-versicolor</td></tr><tr><td>78</td><td>6.7</td><td>3</td><td>5</td><td>1.7</td><td>Iris-versicolor</td></tr><tr><td>79</td><td>6</td><td>2.9</td><td>4.5</td><td>1.5</td><td>Iris-versicolor</td></tr><tr><td>80</td><td>5.7</td><td>2.6</td><td>3.5</td><td>1</td><td>Iris-versicolor</td></tr><tr><td>81</td><td>5.5</td><td>2.4</td><td>3.8</td><td>1.1</td><td>Iris-versicolor</td></tr><tr><td>82</td><td>5.5</td><td>2.4</td><td>3.7</td><td>1</td><td>Iris-versicolor</td></tr><tr><td>83</td><td>5.8</td><td>2.7</td><td>3.9</td><td>1.2</td><td>Iris-versicolor</td></tr><tr><td>84</td><td>6</td><td>2.7</td><td>5.1</td><td>1.6</td><td>Iris-versicolor</td></tr><tr><td>85</td><td>5.4</td><td>3</td><td>4.5</td><td>1.5</td><td>Iris-versicolor</td></tr><tr><td>86</td><td>6</td><td>3.4</td><td>4.5</td><td>1.6</td><td>Iris-versicolor</td></tr><tr><td>87</td><td>6.7</td><td>3.1</td><td>4.7</td><td>1.5</td><td>Iris-versicolor</td></tr><tr><td>88</td><td>6.3</td><td>2.3</td><td>4.4</td><td>1.3</td><td>Iris-versicolor</td></tr><tr><td>89</td><td>5.6</td><td>3</td><td>4.1</td><td>1.3</td><td>Iris-versicolor</td></tr><tr><td>90</td><td>5.5</td><td>2.5</td><td>4</td><td>1.3</td><td>Iris-versicolor</td></tr><tr><td>91</td><td>5.5</td><td>2.6</td><td>4.4</td><td>1.2</td><td>Iris-versicolor</td></tr><tr><td>92</td><td>6.1</td><td>3</td><td>4.6</td><td>1.4</td><td>Iris-versicolor</td></tr><tr><td>93</td><td>5.8</td><td>2.6</td><td>4</td><td>1.2</td><td>Iris-versicolor</td></tr><tr><td>94</td><td>5</td><td>2.3</td><td>3.3</td><td>1</td><td>Iris-versicolor</td></tr><tr><td>95</td><td>5.6</td><td>2.7</td><td>4.2</td><td>1.3</td><td>Iris-versicolor</td></tr><tr><td>96</td><td>5.7</td><td>3</td><td>4.2</td><td>1.2</td><td>Iris-versicolor</td></tr><tr><td>97</td><td>5.7</td><td>2.9</td><td>4.2</td><td>1.3</td><td>Iris-versicolor</td></tr><tr><td>98</td><td>6.2</td><td>2.9</td><td>4.3</td><td>1.3</td><td>Iris-versicolor</td></tr><tr><td>99</td><td>5.1</td><td>2.5</td><td>3</td><td>1.1</td><td>Iris-versicolor</td></tr><tr><td>100</td><td>5.7</td><td>2.8</td><td>4.1</td><td>1.3</td><td>Iris-versicolor</td></tr><tr><td>101</td><td>6.3</td><td>3.3</td><td>6</td><td>2.5</td><td>Iris-virginica</td></tr><tr><td>102</td><td>5.8</td><td>2.7</td><td>5.1</td><td>1.9</td><td>Iris-virginica</td></tr><tr><td>103</td><td>7.1</td><td>3</td><td>5.9</td><td>2.1</td><td>Iris-virginica</td></tr><tr><td>104</td><td>6.3</td><td>2.9</td><td>5.6</td><td>1.8</td><td>Iris-virginica</td></tr><tr><td>105</td><td>6.5</td><td>3</td><td>5.8</td><td>2.2</td><td>Iris-virginica</td></tr><tr><td>106</td><td>7.6</td><td>3</td><td>6.6</td><td>2.1</td><td>Iris-virginica</td></tr><tr><td>107</td><td>4.9</td><td>2.5</td><td>4.5</td><td>1.7</td><td>Iris-virginica</td></tr><tr><td>108</td><td>7.3</td><td>2.9</td><td>6.3</td><td>1.8</td><td>Iris-virginica</td></tr><tr><td>109</td><td>6.7</td><td>2.5</td><td>5.8</td><td>1.8</td><td>Iris-virginica</td></tr><tr><td>110</td><td>7.2</td><td>3.6</td><td>6.1</td><td>2.5</td><td>Iris-virginica</td></tr><tr><td>111</td><td>6.5</td><td>3.2</td><td>5.1</td><td>2</td><td>Iris-virginica</td></tr><tr><td>112</td><td>6.4</td><td>2.7</td><td>5.3</td><td>1.9</td><td>Iris-virginica</td></tr><tr><td>113</td><td>6.8</td><td>3</td><td>5.5</td><td>2.1</td><td>Iris-virginica</td></tr><tr><td>114</td><td>5.7</td><td>2.5</td><td>5</td><td>2</td><td>Iris-virginica</td></tr><tr><td>115</td><td>5.8</td><td>2.8</td><td>5.1</td><td>2.4</td><td>Iris-virginica</td></tr><tr><td>116</td><td>6.4</td><td>3.2</td><td>5.3</td><td>2.3</td><td>Iris-virginica</td></tr><tr><td>117</td><td>6.5</td><td>3</td><td>5.5</td><td>1.8</td><td>Iris-virginica</td></tr><tr><td>118</td><td>7.7</td><td>3.8</td><td>6.7</td><td>2.2</td><td>Iris-virginica</td></tr><tr><td>119</td><td>7.7</td><td>2.6</td><td>6.9</td><td>2.3</td><td>Iris-virginica</td></tr><tr><td>120</td><td>6</td><td>2.2</td><td>5</td><td>1.5</td><td>Iris-virginica</td></tr><tr><td>121</td><td>6.9</td><td>3.2</td><td>5.7</td><td>2.3</td><td>Iris-virginica</td></tr><tr><td>122</td><td>5.6</td><td>2.8</td><td>4.9</td><td>2</td><td>Iris-virginica</td></tr><tr><td>123</td><td>7.7</td><td>2.8</td><td>6.7</td><td>2</td><td>Iris-virginica</td></tr><tr><td>124</td><td>6.3</td><td>2.7</td><td>4.9</td><td>1.8</td><td>Iris-virginica</td></tr><tr><td>125</td><td>6.7</td><td>3.3</td><td>5.7</td><td>2.1</td><td>Iris-virginica</td></tr><tr><td>126</td><td>7.2</td><td>3.2</td><td>6</td><td>1.8</td><td>Iris-virginica</td></tr><tr><td>127</td><td>6.2</td><td>2.8</td><td>4.8</td><td>1.8</td><td>Iris-virginica</td></tr><tr><td>128</td><td>6.1</td><td>3</td><td>4.9</td><td>1.8</td><td>Iris-virginica</td></tr><tr><td>129</td><td>6.4</td><td>2.8</td><td>5.6</td><td>2.1</td><td>Iris-virginica</td></tr><tr><td>130</td><td>7.2</td><td>3</td><td>5.8</td><td>1.6</td><td>Iris-virginica</td></tr><tr><td>131</td><td>7.4</td><td>2.8</td><td>6.1</td><td>1.9</td><td>Iris-virginica</td></tr><tr><td>132</td><td>7.9</td><td>3.8</td><td>6.4</td><td>2</td><td>Iris-virginica</td></tr><tr><td>133</td><td>6.4</td><td>2.8</td><td>5.6</td><td>2.2</td><td>Iris-virginica</td></tr><tr><td>134</td><td>6.3</td><td>2.8</td><td>5.1</td><td>1.5</td><td>Iris-virginica</td></tr><tr><td>135</td><td>6.1</td><td>2.6</td><td>5.6</td><td>1.4</td><td>Iris-virginica</td></tr><tr><td>136</td><td>7.7</td><td>3</td><td>6.1</td><td>2.3</td><td>Iris-virginica</td></tr><tr><td>137</td><td>6.3</td><td>3.4</td><td>5.6</td><td>2.4</td><td>Iris-virginica</td></tr><tr><td>138</td><td>6.4</td><td>3.1</td><td>5.5</td><td>1.8</td><td>Iris-virginica</td></tr><tr><td>139</td><td>6</td><td>3</td><td>4.8</td><td>1.8</td><td>Iris-virginica</td></tr><tr><td>140</td><td>6.9</td><td>3.1</td><td>5.4</td><td>2.1</td><td>Iris-virginica</td></tr><tr><td>141</td><td>6.7</td><td>3.1</td><td>5.6</td><td>2.4</td><td>Iris-virginica</td></tr><tr><td>142</td><td>6.9</td><td>3.1</td><td>5.1</td><td>2.3</td><td>Iris-virginica</td></tr><tr><td>143</td><td>5.8</td><td>2.7</td><td>5.1</td><td>1.9</td><td>Iris-virginica</td></tr><tr><td>144</td><td>6.8</td><td>3.2</td><td>5.9</td><td>2.3</td><td>Iris-virginica</td></tr><tr><td>145</td><td>6.7</td><td>3.3</td><td>5.7</td><td>2.5</td><td>Iris-virginica</td></tr><tr><td>146</td><td>6.7</td><td>3</td><td>5.2</td><td>2.3</td><td>Iris-virginica</td></tr><tr><td>147</td><td>6.3</td><td>2.5</td><td>5</td><td>1.9</td><td>Iris-virginica</td></tr><tr><td>148</td><td>6.5</td><td>3</td><td>5.2</td><td>2</td><td>Iris-virginica</td></tr><tr><td>149</td><td>6.2</td><td>3.4</td><td>5.4</td><td>2.3</td><td>Iris-virginica</td></tr><tr><td>150</td><td>5.9</td><td>3</td><td>5.1</td><td>1.8</td><td>Iris-virginica</td></tr></table>"
                    },
                    "metadata": {}
                }
            ],
            "execution_count": 2
        },
        {
            "cell_type": "markdown",
            "source": [
                "<span style=\"color: #008000;\">3. Show first five records</span>\n",
                "\n",
                "<span style=\"color: #008000;\">SELECT TOP --&gt; used to specify the number of records to return</span>"
            ],
            "metadata": {
                "azdata_cell_guid": "2175ccf4-3c1e-4208-b54a-70686ef21844"
            },
            "attachments": {}
        },
        {
            "cell_type": "code",
            "source": [
                "SELECT\n",
                "    TOP 5 *\n",
                "FROM\n",
                "    dbo.iris; \n",
                "GO\n",
                ""
            ],
            "metadata": {
                "azdata_cell_guid": "f48a4c7b-eccf-45dc-aa53-bc13509fcb6b",
                "tags": []
            },
            "outputs": [
                {
                    "output_type": "display_data",
                    "data": {
                        "text/html": "(5 rows affected)"
                    },
                    "metadata": {}
                },
                {
                    "output_type": "display_data",
                    "data": {
                        "text/html": "Total execution time: 00:00:00.005"
                    },
                    "metadata": {}
                },
                {
                    "output_type": "execute_result",
                    "execution_count": 4,
                    "data": {
                        "application/vnd.dataresource+json": {
                            "schema": {
                                "fields": [
                                    {
                                        "name": "Id"
                                    },
                                    {
                                        "name": "SepalLengthCm"
                                    },
                                    {
                                        "name": "SepalWidthCm"
                                    },
                                    {
                                        "name": "PetalLengthCm"
                                    },
                                    {
                                        "name": "PetalWidthCm"
                                    },
                                    {
                                        "name": "Species"
                                    }
                                ]
                            },
                            "data": [
                                {
                                    "0": "1",
                                    "1": "5.1",
                                    "2": "3.5",
                                    "3": "1.4",
                                    "4": "0.2",
                                    "5": "Iris-setosa"
                                },
                                {
                                    "0": "2",
                                    "1": "4.9",
                                    "2": "3",
                                    "3": "1.4",
                                    "4": "0.2",
                                    "5": "Iris-setosa"
                                },
                                {
                                    "0": "3",
                                    "1": "4.7",
                                    "2": "3.2",
                                    "3": "1.3",
                                    "4": "0.2",
                                    "5": "Iris-setosa"
                                },
                                {
                                    "0": "4",
                                    "1": "4.6",
                                    "2": "3.1",
                                    "3": "1.5",
                                    "4": "0.2",
                                    "5": "Iris-setosa"
                                },
                                {
                                    "0": "5",
                                    "1": "5",
                                    "2": "3.6",
                                    "3": "1.4",
                                    "4": "0.2",
                                    "5": "Iris-setosa"
                                }
                            ]
                        },
                        "text/html": "<table><tr><th>Id</th><th>SepalLengthCm</th><th>SepalWidthCm</th><th>PetalLengthCm</th><th>PetalWidthCm</th><th>Species</th></tr><tr><td>1</td><td>5.1</td><td>3.5</td><td>1.4</td><td>0.2</td><td>Iris-setosa</td></tr><tr><td>2</td><td>4.9</td><td>3</td><td>1.4</td><td>0.2</td><td>Iris-setosa</td></tr><tr><td>3</td><td>4.7</td><td>3.2</td><td>1.3</td><td>0.2</td><td>Iris-setosa</td></tr><tr><td>4</td><td>4.6</td><td>3.1</td><td>1.5</td><td>0.2</td><td>Iris-setosa</td></tr><tr><td>5</td><td>5</td><td>3.6</td><td>1.4</td><td>0.2</td><td>Iris-setosa</td></tr></table>"
                    },
                    "metadata": {}
                }
            ],
            "execution_count": 4
        },
        {
            "cell_type": "markdown",
            "source": [
                "<span style=\"color: #008000;\">4. Show a dataframe which has sepalwidth greater than 4</span>"
            ],
            "metadata": {
                "azdata_cell_guid": "38dcf859-73f5-40fa-a158-9b3831b83e99"
            },
            "attachments": {}
        },
        {
            "cell_type": "code",
            "source": [
                "SELECT \n",
                "    * \n",
                "FROM\n",
                "    dbo.iris \n",
                "WHERE\n",
                "    SepalwidthCm > 4;\n",
                "GO \n",
                ""
            ],
            "metadata": {
                "azdata_cell_guid": "effde130-9c14-4f32-bdee-3dbc1c23d3a0"
            },
            "outputs": [
                {
                    "output_type": "display_data",
                    "data": {
                        "text/html": "(3 rows affected)"
                    },
                    "metadata": {}
                },
                {
                    "output_type": "display_data",
                    "data": {
                        "text/html": "Total execution time: 00:00:00.004"
                    },
                    "metadata": {}
                },
                {
                    "output_type": "execute_result",
                    "execution_count": 5,
                    "data": {
                        "application/vnd.dataresource+json": {
                            "schema": {
                                "fields": [
                                    {
                                        "name": "Id"
                                    },
                                    {
                                        "name": "SepalLengthCm"
                                    },
                                    {
                                        "name": "SepalWidthCm"
                                    },
                                    {
                                        "name": "PetalLengthCm"
                                    },
                                    {
                                        "name": "PetalWidthCm"
                                    },
                                    {
                                        "name": "Species"
                                    }
                                ]
                            },
                            "data": [
                                {
                                    "0": "16",
                                    "1": "5.7",
                                    "2": "4.4",
                                    "3": "1.5",
                                    "4": "0.4",
                                    "5": "Iris-setosa"
                                },
                                {
                                    "0": "33",
                                    "1": "5.2",
                                    "2": "4.1",
                                    "3": "1.5",
                                    "4": "0.1",
                                    "5": "Iris-setosa"
                                },
                                {
                                    "0": "34",
                                    "1": "5.5",
                                    "2": "4.2",
                                    "3": "1.4",
                                    "4": "0.2",
                                    "5": "Iris-setosa"
                                }
                            ]
                        },
                        "text/html": "<table><tr><th>Id</th><th>SepalLengthCm</th><th>SepalWidthCm</th><th>PetalLengthCm</th><th>PetalWidthCm</th><th>Species</th></tr><tr><td>16</td><td>5.7</td><td>4.4</td><td>1.5</td><td>0.4</td><td>Iris-setosa</td></tr><tr><td>33</td><td>5.2</td><td>4.1</td><td>1.5</td><td>0.1</td><td>Iris-setosa</td></tr><tr><td>34</td><td>5.5</td><td>4.2</td><td>1.4</td><td>0.2</td><td>Iris-setosa</td></tr></table>"
                    },
                    "metadata": {}
                }
            ],
            "execution_count": 5
        },
        {
            "cell_type": "markdown",
            "source": [
                "<span style=\"color: #008000;\">5. Show a dataframe which has petalwidth greater than 1</span>"
            ],
            "metadata": {
                "azdata_cell_guid": "fc043af2-ffed-47c3-922f-741e3dc01080"
            },
            "attachments": {}
        },
        {
            "cell_type": "code",
            "source": [
                "SELECT \n",
                "    *\n",
                "FROM\n",
                "    dbo.iris\n",
                "WHERE\n",
                "    PetalWidthcm > 1;\n",
                "GO"
            ],
            "metadata": {
                "azdata_cell_guid": "658b67fc-4a8b-4b1d-af92-4b4346268893"
            },
            "outputs": [
                {
                    "output_type": "display_data",
                    "data": {
                        "text/html": "(93 rows affected)"
                    },
                    "metadata": {}
                },
                {
                    "output_type": "display_data",
                    "data": {
                        "text/html": "Total execution time: 00:00:00.017"
                    },
                    "metadata": {}
                },
                {
                    "output_type": "execute_result",
                    "execution_count": 6,
                    "data": {
                        "application/vnd.dataresource+json": {
                            "schema": {
                                "fields": [
                                    {
                                        "name": "Id"
                                    },
                                    {
                                        "name": "SepalLengthCm"
                                    },
                                    {
                                        "name": "SepalWidthCm"
                                    },
                                    {
                                        "name": "PetalLengthCm"
                                    },
                                    {
                                        "name": "PetalWidthCm"
                                    },
                                    {
                                        "name": "Species"
                                    }
                                ]
                            },
                            "data": [
                                {
                                    "0": "51",
                                    "1": "7",
                                    "2": "3.2",
                                    "3": "4.7",
                                    "4": "1.4",
                                    "5": "Iris-versicolor"
                                },
                                {
                                    "0": "52",
                                    "1": "6.4",
                                    "2": "3.2",
                                    "3": "4.5",
                                    "4": "1.5",
                                    "5": "Iris-versicolor"
                                },
                                {
                                    "0": "53",
                                    "1": "6.9",
                                    "2": "3.1",
                                    "3": "4.9",
                                    "4": "1.5",
                                    "5": "Iris-versicolor"
                                },
                                {
                                    "0": "54",
                                    "1": "5.5",
                                    "2": "2.3",
                                    "3": "4",
                                    "4": "1.3",
                                    "5": "Iris-versicolor"
                                },
                                {
                                    "0": "55",
                                    "1": "6.5",
                                    "2": "2.8",
                                    "3": "4.6",
                                    "4": "1.5",
                                    "5": "Iris-versicolor"
                                },
                                {
                                    "0": "56",
                                    "1": "5.7",
                                    "2": "2.8",
                                    "3": "4.5",
                                    "4": "1.3",
                                    "5": "Iris-versicolor"
                                },
                                {
                                    "0": "57",
                                    "1": "6.3",
                                    "2": "3.3",
                                    "3": "4.7",
                                    "4": "1.6",
                                    "5": "Iris-versicolor"
                                },
                                {
                                    "0": "59",
                                    "1": "6.6",
                                    "2": "2.9",
                                    "3": "4.6",
                                    "4": "1.3",
                                    "5": "Iris-versicolor"
                                },
                                {
                                    "0": "60",
                                    "1": "5.2",
                                    "2": "2.7",
                                    "3": "3.9",
                                    "4": "1.4",
                                    "5": "Iris-versicolor"
                                },
                                {
                                    "0": "62",
                                    "1": "5.9",
                                    "2": "3",
                                    "3": "4.2",
                                    "4": "1.5",
                                    "5": "Iris-versicolor"
                                },
                                {
                                    "0": "64",
                                    "1": "6.1",
                                    "2": "2.9",
                                    "3": "4.7",
                                    "4": "1.4",
                                    "5": "Iris-versicolor"
                                },
                                {
                                    "0": "65",
                                    "1": "5.6",
                                    "2": "2.9",
                                    "3": "3.6",
                                    "4": "1.3",
                                    "5": "Iris-versicolor"
                                },
                                {
                                    "0": "66",
                                    "1": "6.7",
                                    "2": "3.1",
                                    "3": "4.4",
                                    "4": "1.4",
                                    "5": "Iris-versicolor"
                                },
                                {
                                    "0": "67",
                                    "1": "5.6",
                                    "2": "3",
                                    "3": "4.5",
                                    "4": "1.5",
                                    "5": "Iris-versicolor"
                                },
                                {
                                    "0": "69",
                                    "1": "6.2",
                                    "2": "2.2",
                                    "3": "4.5",
                                    "4": "1.5",
                                    "5": "Iris-versicolor"
                                },
                                {
                                    "0": "70",
                                    "1": "5.6",
                                    "2": "2.5",
                                    "3": "3.9",
                                    "4": "1.1",
                                    "5": "Iris-versicolor"
                                },
                                {
                                    "0": "71",
                                    "1": "5.9",
                                    "2": "3.2",
                                    "3": "4.8",
                                    "4": "1.8",
                                    "5": "Iris-versicolor"
                                },
                                {
                                    "0": "72",
                                    "1": "6.1",
                                    "2": "2.8",
                                    "3": "4",
                                    "4": "1.3",
                                    "5": "Iris-versicolor"
                                },
                                {
                                    "0": "73",
                                    "1": "6.3",
                                    "2": "2.5",
                                    "3": "4.9",
                                    "4": "1.5",
                                    "5": "Iris-versicolor"
                                },
                                {
                                    "0": "74",
                                    "1": "6.1",
                                    "2": "2.8",
                                    "3": "4.7",
                                    "4": "1.2",
                                    "5": "Iris-versicolor"
                                },
                                {
                                    "0": "75",
                                    "1": "6.4",
                                    "2": "2.9",
                                    "3": "4.3",
                                    "4": "1.3",
                                    "5": "Iris-versicolor"
                                },
                                {
                                    "0": "76",
                                    "1": "6.6",
                                    "2": "3",
                                    "3": "4.4",
                                    "4": "1.4",
                                    "5": "Iris-versicolor"
                                },
                                {
                                    "0": "77",
                                    "1": "6.8",
                                    "2": "2.8",
                                    "3": "4.8",
                                    "4": "1.4",
                                    "5": "Iris-versicolor"
                                },
                                {
                                    "0": "78",
                                    "1": "6.7",
                                    "2": "3",
                                    "3": "5",
                                    "4": "1.7",
                                    "5": "Iris-versicolor"
                                },
                                {
                                    "0": "79",
                                    "1": "6",
                                    "2": "2.9",
                                    "3": "4.5",
                                    "4": "1.5",
                                    "5": "Iris-versicolor"
                                },
                                {
                                    "0": "81",
                                    "1": "5.5",
                                    "2": "2.4",
                                    "3": "3.8",
                                    "4": "1.1",
                                    "5": "Iris-versicolor"
                                },
                                {
                                    "0": "83",
                                    "1": "5.8",
                                    "2": "2.7",
                                    "3": "3.9",
                                    "4": "1.2",
                                    "5": "Iris-versicolor"
                                },
                                {
                                    "0": "84",
                                    "1": "6",
                                    "2": "2.7",
                                    "3": "5.1",
                                    "4": "1.6",
                                    "5": "Iris-versicolor"
                                },
                                {
                                    "0": "85",
                                    "1": "5.4",
                                    "2": "3",
                                    "3": "4.5",
                                    "4": "1.5",
                                    "5": "Iris-versicolor"
                                },
                                {
                                    "0": "86",
                                    "1": "6",
                                    "2": "3.4",
                                    "3": "4.5",
                                    "4": "1.6",
                                    "5": "Iris-versicolor"
                                },
                                {
                                    "0": "87",
                                    "1": "6.7",
                                    "2": "3.1",
                                    "3": "4.7",
                                    "4": "1.5",
                                    "5": "Iris-versicolor"
                                },
                                {
                                    "0": "88",
                                    "1": "6.3",
                                    "2": "2.3",
                                    "3": "4.4",
                                    "4": "1.3",
                                    "5": "Iris-versicolor"
                                },
                                {
                                    "0": "89",
                                    "1": "5.6",
                                    "2": "3",
                                    "3": "4.1",
                                    "4": "1.3",
                                    "5": "Iris-versicolor"
                                },
                                {
                                    "0": "90",
                                    "1": "5.5",
                                    "2": "2.5",
                                    "3": "4",
                                    "4": "1.3",
                                    "5": "Iris-versicolor"
                                },
                                {
                                    "0": "91",
                                    "1": "5.5",
                                    "2": "2.6",
                                    "3": "4.4",
                                    "4": "1.2",
                                    "5": "Iris-versicolor"
                                },
                                {
                                    "0": "92",
                                    "1": "6.1",
                                    "2": "3",
                                    "3": "4.6",
                                    "4": "1.4",
                                    "5": "Iris-versicolor"
                                },
                                {
                                    "0": "93",
                                    "1": "5.8",
                                    "2": "2.6",
                                    "3": "4",
                                    "4": "1.2",
                                    "5": "Iris-versicolor"
                                },
                                {
                                    "0": "95",
                                    "1": "5.6",
                                    "2": "2.7",
                                    "3": "4.2",
                                    "4": "1.3",
                                    "5": "Iris-versicolor"
                                },
                                {
                                    "0": "96",
                                    "1": "5.7",
                                    "2": "3",
                                    "3": "4.2",
                                    "4": "1.2",
                                    "5": "Iris-versicolor"
                                },
                                {
                                    "0": "97",
                                    "1": "5.7",
                                    "2": "2.9",
                                    "3": "4.2",
                                    "4": "1.3",
                                    "5": "Iris-versicolor"
                                },
                                {
                                    "0": "98",
                                    "1": "6.2",
                                    "2": "2.9",
                                    "3": "4.3",
                                    "4": "1.3",
                                    "5": "Iris-versicolor"
                                },
                                {
                                    "0": "99",
                                    "1": "5.1",
                                    "2": "2.5",
                                    "3": "3",
                                    "4": "1.1",
                                    "5": "Iris-versicolor"
                                },
                                {
                                    "0": "100",
                                    "1": "5.7",
                                    "2": "2.8",
                                    "3": "4.1",
                                    "4": "1.3",
                                    "5": "Iris-versicolor"
                                },
                                {
                                    "0": "101",
                                    "1": "6.3",
                                    "2": "3.3",
                                    "3": "6",
                                    "4": "2.5",
                                    "5": "Iris-virginica"
                                },
                                {
                                    "0": "102",
                                    "1": "5.8",
                                    "2": "2.7",
                                    "3": "5.1",
                                    "4": "1.9",
                                    "5": "Iris-virginica"
                                },
                                {
                                    "0": "103",
                                    "1": "7.1",
                                    "2": "3",
                                    "3": "5.9",
                                    "4": "2.1",
                                    "5": "Iris-virginica"
                                },
                                {
                                    "0": "104",
                                    "1": "6.3",
                                    "2": "2.9",
                                    "3": "5.6",
                                    "4": "1.8",
                                    "5": "Iris-virginica"
                                },
                                {
                                    "0": "105",
                                    "1": "6.5",
                                    "2": "3",
                                    "3": "5.8",
                                    "4": "2.2",
                                    "5": "Iris-virginica"
                                },
                                {
                                    "0": "106",
                                    "1": "7.6",
                                    "2": "3",
                                    "3": "6.6",
                                    "4": "2.1",
                                    "5": "Iris-virginica"
                                },
                                {
                                    "0": "107",
                                    "1": "4.9",
                                    "2": "2.5",
                                    "3": "4.5",
                                    "4": "1.7",
                                    "5": "Iris-virginica"
                                },
                                {
                                    "0": "108",
                                    "1": "7.3",
                                    "2": "2.9",
                                    "3": "6.3",
                                    "4": "1.8",
                                    "5": "Iris-virginica"
                                },
                                {
                                    "0": "109",
                                    "1": "6.7",
                                    "2": "2.5",
                                    "3": "5.8",
                                    "4": "1.8",
                                    "5": "Iris-virginica"
                                },
                                {
                                    "0": "110",
                                    "1": "7.2",
                                    "2": "3.6",
                                    "3": "6.1",
                                    "4": "2.5",
                                    "5": "Iris-virginica"
                                },
                                {
                                    "0": "111",
                                    "1": "6.5",
                                    "2": "3.2",
                                    "3": "5.1",
                                    "4": "2",
                                    "5": "Iris-virginica"
                                },
                                {
                                    "0": "112",
                                    "1": "6.4",
                                    "2": "2.7",
                                    "3": "5.3",
                                    "4": "1.9",
                                    "5": "Iris-virginica"
                                },
                                {
                                    "0": "113",
                                    "1": "6.8",
                                    "2": "3",
                                    "3": "5.5",
                                    "4": "2.1",
                                    "5": "Iris-virginica"
                                },
                                {
                                    "0": "114",
                                    "1": "5.7",
                                    "2": "2.5",
                                    "3": "5",
                                    "4": "2",
                                    "5": "Iris-virginica"
                                },
                                {
                                    "0": "115",
                                    "1": "5.8",
                                    "2": "2.8",
                                    "3": "5.1",
                                    "4": "2.4",
                                    "5": "Iris-virginica"
                                },
                                {
                                    "0": "116",
                                    "1": "6.4",
                                    "2": "3.2",
                                    "3": "5.3",
                                    "4": "2.3",
                                    "5": "Iris-virginica"
                                },
                                {
                                    "0": "117",
                                    "1": "6.5",
                                    "2": "3",
                                    "3": "5.5",
                                    "4": "1.8",
                                    "5": "Iris-virginica"
                                },
                                {
                                    "0": "118",
                                    "1": "7.7",
                                    "2": "3.8",
                                    "3": "6.7",
                                    "4": "2.2",
                                    "5": "Iris-virginica"
                                },
                                {
                                    "0": "119",
                                    "1": "7.7",
                                    "2": "2.6",
                                    "3": "6.9",
                                    "4": "2.3",
                                    "5": "Iris-virginica"
                                },
                                {
                                    "0": "120",
                                    "1": "6",
                                    "2": "2.2",
                                    "3": "5",
                                    "4": "1.5",
                                    "5": "Iris-virginica"
                                },
                                {
                                    "0": "121",
                                    "1": "6.9",
                                    "2": "3.2",
                                    "3": "5.7",
                                    "4": "2.3",
                                    "5": "Iris-virginica"
                                },
                                {
                                    "0": "122",
                                    "1": "5.6",
                                    "2": "2.8",
                                    "3": "4.9",
                                    "4": "2",
                                    "5": "Iris-virginica"
                                },
                                {
                                    "0": "123",
                                    "1": "7.7",
                                    "2": "2.8",
                                    "3": "6.7",
                                    "4": "2",
                                    "5": "Iris-virginica"
                                },
                                {
                                    "0": "124",
                                    "1": "6.3",
                                    "2": "2.7",
                                    "3": "4.9",
                                    "4": "1.8",
                                    "5": "Iris-virginica"
                                },
                                {
                                    "0": "125",
                                    "1": "6.7",
                                    "2": "3.3",
                                    "3": "5.7",
                                    "4": "2.1",
                                    "5": "Iris-virginica"
                                },
                                {
                                    "0": "126",
                                    "1": "7.2",
                                    "2": "3.2",
                                    "3": "6",
                                    "4": "1.8",
                                    "5": "Iris-virginica"
                                },
                                {
                                    "0": "127",
                                    "1": "6.2",
                                    "2": "2.8",
                                    "3": "4.8",
                                    "4": "1.8",
                                    "5": "Iris-virginica"
                                },
                                {
                                    "0": "128",
                                    "1": "6.1",
                                    "2": "3",
                                    "3": "4.9",
                                    "4": "1.8",
                                    "5": "Iris-virginica"
                                },
                                {
                                    "0": "129",
                                    "1": "6.4",
                                    "2": "2.8",
                                    "3": "5.6",
                                    "4": "2.1",
                                    "5": "Iris-virginica"
                                },
                                {
                                    "0": "130",
                                    "1": "7.2",
                                    "2": "3",
                                    "3": "5.8",
                                    "4": "1.6",
                                    "5": "Iris-virginica"
                                },
                                {
                                    "0": "131",
                                    "1": "7.4",
                                    "2": "2.8",
                                    "3": "6.1",
                                    "4": "1.9",
                                    "5": "Iris-virginica"
                                },
                                {
                                    "0": "132",
                                    "1": "7.9",
                                    "2": "3.8",
                                    "3": "6.4",
                                    "4": "2",
                                    "5": "Iris-virginica"
                                },
                                {
                                    "0": "133",
                                    "1": "6.4",
                                    "2": "2.8",
                                    "3": "5.6",
                                    "4": "2.2",
                                    "5": "Iris-virginica"
                                },
                                {
                                    "0": "134",
                                    "1": "6.3",
                                    "2": "2.8",
                                    "3": "5.1",
                                    "4": "1.5",
                                    "5": "Iris-virginica"
                                },
                                {
                                    "0": "135",
                                    "1": "6.1",
                                    "2": "2.6",
                                    "3": "5.6",
                                    "4": "1.4",
                                    "5": "Iris-virginica"
                                },
                                {
                                    "0": "136",
                                    "1": "7.7",
                                    "2": "3",
                                    "3": "6.1",
                                    "4": "2.3",
                                    "5": "Iris-virginica"
                                },
                                {
                                    "0": "137",
                                    "1": "6.3",
                                    "2": "3.4",
                                    "3": "5.6",
                                    "4": "2.4",
                                    "5": "Iris-virginica"
                                },
                                {
                                    "0": "138",
                                    "1": "6.4",
                                    "2": "3.1",
                                    "3": "5.5",
                                    "4": "1.8",
                                    "5": "Iris-virginica"
                                },
                                {
                                    "0": "139",
                                    "1": "6",
                                    "2": "3",
                                    "3": "4.8",
                                    "4": "1.8",
                                    "5": "Iris-virginica"
                                },
                                {
                                    "0": "140",
                                    "1": "6.9",
                                    "2": "3.1",
                                    "3": "5.4",
                                    "4": "2.1",
                                    "5": "Iris-virginica"
                                },
                                {
                                    "0": "141",
                                    "1": "6.7",
                                    "2": "3.1",
                                    "3": "5.6",
                                    "4": "2.4",
                                    "5": "Iris-virginica"
                                },
                                {
                                    "0": "142",
                                    "1": "6.9",
                                    "2": "3.1",
                                    "3": "5.1",
                                    "4": "2.3",
                                    "5": "Iris-virginica"
                                },
                                {
                                    "0": "143",
                                    "1": "5.8",
                                    "2": "2.7",
                                    "3": "5.1",
                                    "4": "1.9",
                                    "5": "Iris-virginica"
                                },
                                {
                                    "0": "144",
                                    "1": "6.8",
                                    "2": "3.2",
                                    "3": "5.9",
                                    "4": "2.3",
                                    "5": "Iris-virginica"
                                },
                                {
                                    "0": "145",
                                    "1": "6.7",
                                    "2": "3.3",
                                    "3": "5.7",
                                    "4": "2.5",
                                    "5": "Iris-virginica"
                                },
                                {
                                    "0": "146",
                                    "1": "6.7",
                                    "2": "3",
                                    "3": "5.2",
                                    "4": "2.3",
                                    "5": "Iris-virginica"
                                },
                                {
                                    "0": "147",
                                    "1": "6.3",
                                    "2": "2.5",
                                    "3": "5",
                                    "4": "1.9",
                                    "5": "Iris-virginica"
                                },
                                {
                                    "0": "148",
                                    "1": "6.5",
                                    "2": "3",
                                    "3": "5.2",
                                    "4": "2",
                                    "5": "Iris-virginica"
                                },
                                {
                                    "0": "149",
                                    "1": "6.2",
                                    "2": "3.4",
                                    "3": "5.4",
                                    "4": "2.3",
                                    "5": "Iris-virginica"
                                },
                                {
                                    "0": "150",
                                    "1": "5.9",
                                    "2": "3",
                                    "3": "5.1",
                                    "4": "1.8",
                                    "5": "Iris-virginica"
                                }
                            ]
                        },
                        "text/html": "<table><tr><th>Id</th><th>SepalLengthCm</th><th>SepalWidthCm</th><th>PetalLengthCm</th><th>PetalWidthCm</th><th>Species</th></tr><tr><td>51</td><td>7</td><td>3.2</td><td>4.7</td><td>1.4</td><td>Iris-versicolor</td></tr><tr><td>52</td><td>6.4</td><td>3.2</td><td>4.5</td><td>1.5</td><td>Iris-versicolor</td></tr><tr><td>53</td><td>6.9</td><td>3.1</td><td>4.9</td><td>1.5</td><td>Iris-versicolor</td></tr><tr><td>54</td><td>5.5</td><td>2.3</td><td>4</td><td>1.3</td><td>Iris-versicolor</td></tr><tr><td>55</td><td>6.5</td><td>2.8</td><td>4.6</td><td>1.5</td><td>Iris-versicolor</td></tr><tr><td>56</td><td>5.7</td><td>2.8</td><td>4.5</td><td>1.3</td><td>Iris-versicolor</td></tr><tr><td>57</td><td>6.3</td><td>3.3</td><td>4.7</td><td>1.6</td><td>Iris-versicolor</td></tr><tr><td>59</td><td>6.6</td><td>2.9</td><td>4.6</td><td>1.3</td><td>Iris-versicolor</td></tr><tr><td>60</td><td>5.2</td><td>2.7</td><td>3.9</td><td>1.4</td><td>Iris-versicolor</td></tr><tr><td>62</td><td>5.9</td><td>3</td><td>4.2</td><td>1.5</td><td>Iris-versicolor</td></tr><tr><td>64</td><td>6.1</td><td>2.9</td><td>4.7</td><td>1.4</td><td>Iris-versicolor</td></tr><tr><td>65</td><td>5.6</td><td>2.9</td><td>3.6</td><td>1.3</td><td>Iris-versicolor</td></tr><tr><td>66</td><td>6.7</td><td>3.1</td><td>4.4</td><td>1.4</td><td>Iris-versicolor</td></tr><tr><td>67</td><td>5.6</td><td>3</td><td>4.5</td><td>1.5</td><td>Iris-versicolor</td></tr><tr><td>69</td><td>6.2</td><td>2.2</td><td>4.5</td><td>1.5</td><td>Iris-versicolor</td></tr><tr><td>70</td><td>5.6</td><td>2.5</td><td>3.9</td><td>1.1</td><td>Iris-versicolor</td></tr><tr><td>71</td><td>5.9</td><td>3.2</td><td>4.8</td><td>1.8</td><td>Iris-versicolor</td></tr><tr><td>72</td><td>6.1</td><td>2.8</td><td>4</td><td>1.3</td><td>Iris-versicolor</td></tr><tr><td>73</td><td>6.3</td><td>2.5</td><td>4.9</td><td>1.5</td><td>Iris-versicolor</td></tr><tr><td>74</td><td>6.1</td><td>2.8</td><td>4.7</td><td>1.2</td><td>Iris-versicolor</td></tr><tr><td>75</td><td>6.4</td><td>2.9</td><td>4.3</td><td>1.3</td><td>Iris-versicolor</td></tr><tr><td>76</td><td>6.6</td><td>3</td><td>4.4</td><td>1.4</td><td>Iris-versicolor</td></tr><tr><td>77</td><td>6.8</td><td>2.8</td><td>4.8</td><td>1.4</td><td>Iris-versicolor</td></tr><tr><td>78</td><td>6.7</td><td>3</td><td>5</td><td>1.7</td><td>Iris-versicolor</td></tr><tr><td>79</td><td>6</td><td>2.9</td><td>4.5</td><td>1.5</td><td>Iris-versicolor</td></tr><tr><td>81</td><td>5.5</td><td>2.4</td><td>3.8</td><td>1.1</td><td>Iris-versicolor</td></tr><tr><td>83</td><td>5.8</td><td>2.7</td><td>3.9</td><td>1.2</td><td>Iris-versicolor</td></tr><tr><td>84</td><td>6</td><td>2.7</td><td>5.1</td><td>1.6</td><td>Iris-versicolor</td></tr><tr><td>85</td><td>5.4</td><td>3</td><td>4.5</td><td>1.5</td><td>Iris-versicolor</td></tr><tr><td>86</td><td>6</td><td>3.4</td><td>4.5</td><td>1.6</td><td>Iris-versicolor</td></tr><tr><td>87</td><td>6.7</td><td>3.1</td><td>4.7</td><td>1.5</td><td>Iris-versicolor</td></tr><tr><td>88</td><td>6.3</td><td>2.3</td><td>4.4</td><td>1.3</td><td>Iris-versicolor</td></tr><tr><td>89</td><td>5.6</td><td>3</td><td>4.1</td><td>1.3</td><td>Iris-versicolor</td></tr><tr><td>90</td><td>5.5</td><td>2.5</td><td>4</td><td>1.3</td><td>Iris-versicolor</td></tr><tr><td>91</td><td>5.5</td><td>2.6</td><td>4.4</td><td>1.2</td><td>Iris-versicolor</td></tr><tr><td>92</td><td>6.1</td><td>3</td><td>4.6</td><td>1.4</td><td>Iris-versicolor</td></tr><tr><td>93</td><td>5.8</td><td>2.6</td><td>4</td><td>1.2</td><td>Iris-versicolor</td></tr><tr><td>95</td><td>5.6</td><td>2.7</td><td>4.2</td><td>1.3</td><td>Iris-versicolor</td></tr><tr><td>96</td><td>5.7</td><td>3</td><td>4.2</td><td>1.2</td><td>Iris-versicolor</td></tr><tr><td>97</td><td>5.7</td><td>2.9</td><td>4.2</td><td>1.3</td><td>Iris-versicolor</td></tr><tr><td>98</td><td>6.2</td><td>2.9</td><td>4.3</td><td>1.3</td><td>Iris-versicolor</td></tr><tr><td>99</td><td>5.1</td><td>2.5</td><td>3</td><td>1.1</td><td>Iris-versicolor</td></tr><tr><td>100</td><td>5.7</td><td>2.8</td><td>4.1</td><td>1.3</td><td>Iris-versicolor</td></tr><tr><td>101</td><td>6.3</td><td>3.3</td><td>6</td><td>2.5</td><td>Iris-virginica</td></tr><tr><td>102</td><td>5.8</td><td>2.7</td><td>5.1</td><td>1.9</td><td>Iris-virginica</td></tr><tr><td>103</td><td>7.1</td><td>3</td><td>5.9</td><td>2.1</td><td>Iris-virginica</td></tr><tr><td>104</td><td>6.3</td><td>2.9</td><td>5.6</td><td>1.8</td><td>Iris-virginica</td></tr><tr><td>105</td><td>6.5</td><td>3</td><td>5.8</td><td>2.2</td><td>Iris-virginica</td></tr><tr><td>106</td><td>7.6</td><td>3</td><td>6.6</td><td>2.1</td><td>Iris-virginica</td></tr><tr><td>107</td><td>4.9</td><td>2.5</td><td>4.5</td><td>1.7</td><td>Iris-virginica</td></tr><tr><td>108</td><td>7.3</td><td>2.9</td><td>6.3</td><td>1.8</td><td>Iris-virginica</td></tr><tr><td>109</td><td>6.7</td><td>2.5</td><td>5.8</td><td>1.8</td><td>Iris-virginica</td></tr><tr><td>110</td><td>7.2</td><td>3.6</td><td>6.1</td><td>2.5</td><td>Iris-virginica</td></tr><tr><td>111</td><td>6.5</td><td>3.2</td><td>5.1</td><td>2</td><td>Iris-virginica</td></tr><tr><td>112</td><td>6.4</td><td>2.7</td><td>5.3</td><td>1.9</td><td>Iris-virginica</td></tr><tr><td>113</td><td>6.8</td><td>3</td><td>5.5</td><td>2.1</td><td>Iris-virginica</td></tr><tr><td>114</td><td>5.7</td><td>2.5</td><td>5</td><td>2</td><td>Iris-virginica</td></tr><tr><td>115</td><td>5.8</td><td>2.8</td><td>5.1</td><td>2.4</td><td>Iris-virginica</td></tr><tr><td>116</td><td>6.4</td><td>3.2</td><td>5.3</td><td>2.3</td><td>Iris-virginica</td></tr><tr><td>117</td><td>6.5</td><td>3</td><td>5.5</td><td>1.8</td><td>Iris-virginica</td></tr><tr><td>118</td><td>7.7</td><td>3.8</td><td>6.7</td><td>2.2</td><td>Iris-virginica</td></tr><tr><td>119</td><td>7.7</td><td>2.6</td><td>6.9</td><td>2.3</td><td>Iris-virginica</td></tr><tr><td>120</td><td>6</td><td>2.2</td><td>5</td><td>1.5</td><td>Iris-virginica</td></tr><tr><td>121</td><td>6.9</td><td>3.2</td><td>5.7</td><td>2.3</td><td>Iris-virginica</td></tr><tr><td>122</td><td>5.6</td><td>2.8</td><td>4.9</td><td>2</td><td>Iris-virginica</td></tr><tr><td>123</td><td>7.7</td><td>2.8</td><td>6.7</td><td>2</td><td>Iris-virginica</td></tr><tr><td>124</td><td>6.3</td><td>2.7</td><td>4.9</td><td>1.8</td><td>Iris-virginica</td></tr><tr><td>125</td><td>6.7</td><td>3.3</td><td>5.7</td><td>2.1</td><td>Iris-virginica</td></tr><tr><td>126</td><td>7.2</td><td>3.2</td><td>6</td><td>1.8</td><td>Iris-virginica</td></tr><tr><td>127</td><td>6.2</td><td>2.8</td><td>4.8</td><td>1.8</td><td>Iris-virginica</td></tr><tr><td>128</td><td>6.1</td><td>3</td><td>4.9</td><td>1.8</td><td>Iris-virginica</td></tr><tr><td>129</td><td>6.4</td><td>2.8</td><td>5.6</td><td>2.1</td><td>Iris-virginica</td></tr><tr><td>130</td><td>7.2</td><td>3</td><td>5.8</td><td>1.6</td><td>Iris-virginica</td></tr><tr><td>131</td><td>7.4</td><td>2.8</td><td>6.1</td><td>1.9</td><td>Iris-virginica</td></tr><tr><td>132</td><td>7.9</td><td>3.8</td><td>6.4</td><td>2</td><td>Iris-virginica</td></tr><tr><td>133</td><td>6.4</td><td>2.8</td><td>5.6</td><td>2.2</td><td>Iris-virginica</td></tr><tr><td>134</td><td>6.3</td><td>2.8</td><td>5.1</td><td>1.5</td><td>Iris-virginica</td></tr><tr><td>135</td><td>6.1</td><td>2.6</td><td>5.6</td><td>1.4</td><td>Iris-virginica</td></tr><tr><td>136</td><td>7.7</td><td>3</td><td>6.1</td><td>2.3</td><td>Iris-virginica</td></tr><tr><td>137</td><td>6.3</td><td>3.4</td><td>5.6</td><td>2.4</td><td>Iris-virginica</td></tr><tr><td>138</td><td>6.4</td><td>3.1</td><td>5.5</td><td>1.8</td><td>Iris-virginica</td></tr><tr><td>139</td><td>6</td><td>3</td><td>4.8</td><td>1.8</td><td>Iris-virginica</td></tr><tr><td>140</td><td>6.9</td><td>3.1</td><td>5.4</td><td>2.1</td><td>Iris-virginica</td></tr><tr><td>141</td><td>6.7</td><td>3.1</td><td>5.6</td><td>2.4</td><td>Iris-virginica</td></tr><tr><td>142</td><td>6.9</td><td>3.1</td><td>5.1</td><td>2.3</td><td>Iris-virginica</td></tr><tr><td>143</td><td>5.8</td><td>2.7</td><td>5.1</td><td>1.9</td><td>Iris-virginica</td></tr><tr><td>144</td><td>6.8</td><td>3.2</td><td>5.9</td><td>2.3</td><td>Iris-virginica</td></tr><tr><td>145</td><td>6.7</td><td>3.3</td><td>5.7</td><td>2.5</td><td>Iris-virginica</td></tr><tr><td>146</td><td>6.7</td><td>3</td><td>5.2</td><td>2.3</td><td>Iris-virginica</td></tr><tr><td>147</td><td>6.3</td><td>2.5</td><td>5</td><td>1.9</td><td>Iris-virginica</td></tr><tr><td>148</td><td>6.5</td><td>3</td><td>5.2</td><td>2</td><td>Iris-virginica</td></tr><tr><td>149</td><td>6.2</td><td>3.4</td><td>5.4</td><td>2.3</td><td>Iris-virginica</td></tr><tr><td>150</td><td>5.9</td><td>3</td><td>5.1</td><td>1.8</td><td>Iris-virginica</td></tr></table>"
                    },
                    "metadata": {}
                }
            ],
            "execution_count": 6
        },
        {
            "cell_type": "markdown",
            "source": [
                "<span style=\"color: #008000;\">6. Reterive records which have petalwidth more than 2</span>"
            ],
            "metadata": {
                "azdata_cell_guid": "92df0a3a-7799-411f-b154-e17e224cf758"
            },
            "attachments": {}
        },
        {
            "cell_type": "code",
            "source": [
                "SELECT \n",
                "    *\n",
                "FROM\n",
                "    dbo.iris\n",
                "WHERE\n",
                "    PetalWidthCm > 2;\n",
                "GO"
            ],
            "metadata": {
                "azdata_cell_guid": "d3df682b-a27b-4d1f-b640-44e5fbd7ba0f"
            },
            "outputs": [
                {
                    "output_type": "display_data",
                    "data": {
                        "text/html": "(23 rows affected)"
                    },
                    "metadata": {}
                },
                {
                    "output_type": "display_data",
                    "data": {
                        "text/html": "Total execution time: 00:00:00.007"
                    },
                    "metadata": {}
                },
                {
                    "output_type": "execute_result",
                    "execution_count": 7,
                    "data": {
                        "application/vnd.dataresource+json": {
                            "schema": {
                                "fields": [
                                    {
                                        "name": "Id"
                                    },
                                    {
                                        "name": "SepalLengthCm"
                                    },
                                    {
                                        "name": "SepalWidthCm"
                                    },
                                    {
                                        "name": "PetalLengthCm"
                                    },
                                    {
                                        "name": "PetalWidthCm"
                                    },
                                    {
                                        "name": "Species"
                                    }
                                ]
                            },
                            "data": [
                                {
                                    "0": "101",
                                    "1": "6.3",
                                    "2": "3.3",
                                    "3": "6",
                                    "4": "2.5",
                                    "5": "Iris-virginica"
                                },
                                {
                                    "0": "103",
                                    "1": "7.1",
                                    "2": "3",
                                    "3": "5.9",
                                    "4": "2.1",
                                    "5": "Iris-virginica"
                                },
                                {
                                    "0": "105",
                                    "1": "6.5",
                                    "2": "3",
                                    "3": "5.8",
                                    "4": "2.2",
                                    "5": "Iris-virginica"
                                },
                                {
                                    "0": "106",
                                    "1": "7.6",
                                    "2": "3",
                                    "3": "6.6",
                                    "4": "2.1",
                                    "5": "Iris-virginica"
                                },
                                {
                                    "0": "110",
                                    "1": "7.2",
                                    "2": "3.6",
                                    "3": "6.1",
                                    "4": "2.5",
                                    "5": "Iris-virginica"
                                },
                                {
                                    "0": "113",
                                    "1": "6.8",
                                    "2": "3",
                                    "3": "5.5",
                                    "4": "2.1",
                                    "5": "Iris-virginica"
                                },
                                {
                                    "0": "115",
                                    "1": "5.8",
                                    "2": "2.8",
                                    "3": "5.1",
                                    "4": "2.4",
                                    "5": "Iris-virginica"
                                },
                                {
                                    "0": "116",
                                    "1": "6.4",
                                    "2": "3.2",
                                    "3": "5.3",
                                    "4": "2.3",
                                    "5": "Iris-virginica"
                                },
                                {
                                    "0": "118",
                                    "1": "7.7",
                                    "2": "3.8",
                                    "3": "6.7",
                                    "4": "2.2",
                                    "5": "Iris-virginica"
                                },
                                {
                                    "0": "119",
                                    "1": "7.7",
                                    "2": "2.6",
                                    "3": "6.9",
                                    "4": "2.3",
                                    "5": "Iris-virginica"
                                },
                                {
                                    "0": "121",
                                    "1": "6.9",
                                    "2": "3.2",
                                    "3": "5.7",
                                    "4": "2.3",
                                    "5": "Iris-virginica"
                                },
                                {
                                    "0": "125",
                                    "1": "6.7",
                                    "2": "3.3",
                                    "3": "5.7",
                                    "4": "2.1",
                                    "5": "Iris-virginica"
                                },
                                {
                                    "0": "129",
                                    "1": "6.4",
                                    "2": "2.8",
                                    "3": "5.6",
                                    "4": "2.1",
                                    "5": "Iris-virginica"
                                },
                                {
                                    "0": "133",
                                    "1": "6.4",
                                    "2": "2.8",
                                    "3": "5.6",
                                    "4": "2.2",
                                    "5": "Iris-virginica"
                                },
                                {
                                    "0": "136",
                                    "1": "7.7",
                                    "2": "3",
                                    "3": "6.1",
                                    "4": "2.3",
                                    "5": "Iris-virginica"
                                },
                                {
                                    "0": "137",
                                    "1": "6.3",
                                    "2": "3.4",
                                    "3": "5.6",
                                    "4": "2.4",
                                    "5": "Iris-virginica"
                                },
                                {
                                    "0": "140",
                                    "1": "6.9",
                                    "2": "3.1",
                                    "3": "5.4",
                                    "4": "2.1",
                                    "5": "Iris-virginica"
                                },
                                {
                                    "0": "141",
                                    "1": "6.7",
                                    "2": "3.1",
                                    "3": "5.6",
                                    "4": "2.4",
                                    "5": "Iris-virginica"
                                },
                                {
                                    "0": "142",
                                    "1": "6.9",
                                    "2": "3.1",
                                    "3": "5.1",
                                    "4": "2.3",
                                    "5": "Iris-virginica"
                                },
                                {
                                    "0": "144",
                                    "1": "6.8",
                                    "2": "3.2",
                                    "3": "5.9",
                                    "4": "2.3",
                                    "5": "Iris-virginica"
                                },
                                {
                                    "0": "145",
                                    "1": "6.7",
                                    "2": "3.3",
                                    "3": "5.7",
                                    "4": "2.5",
                                    "5": "Iris-virginica"
                                },
                                {
                                    "0": "146",
                                    "1": "6.7",
                                    "2": "3",
                                    "3": "5.2",
                                    "4": "2.3",
                                    "5": "Iris-virginica"
                                },
                                {
                                    "0": "149",
                                    "1": "6.2",
                                    "2": "3.4",
                                    "3": "5.4",
                                    "4": "2.3",
                                    "5": "Iris-virginica"
                                }
                            ]
                        },
                        "text/html": "<table><tr><th>Id</th><th>SepalLengthCm</th><th>SepalWidthCm</th><th>PetalLengthCm</th><th>PetalWidthCm</th><th>Species</th></tr><tr><td>101</td><td>6.3</td><td>3.3</td><td>6</td><td>2.5</td><td>Iris-virginica</td></tr><tr><td>103</td><td>7.1</td><td>3</td><td>5.9</td><td>2.1</td><td>Iris-virginica</td></tr><tr><td>105</td><td>6.5</td><td>3</td><td>5.8</td><td>2.2</td><td>Iris-virginica</td></tr><tr><td>106</td><td>7.6</td><td>3</td><td>6.6</td><td>2.1</td><td>Iris-virginica</td></tr><tr><td>110</td><td>7.2</td><td>3.6</td><td>6.1</td><td>2.5</td><td>Iris-virginica</td></tr><tr><td>113</td><td>6.8</td><td>3</td><td>5.5</td><td>2.1</td><td>Iris-virginica</td></tr><tr><td>115</td><td>5.8</td><td>2.8</td><td>5.1</td><td>2.4</td><td>Iris-virginica</td></tr><tr><td>116</td><td>6.4</td><td>3.2</td><td>5.3</td><td>2.3</td><td>Iris-virginica</td></tr><tr><td>118</td><td>7.7</td><td>3.8</td><td>6.7</td><td>2.2</td><td>Iris-virginica</td></tr><tr><td>119</td><td>7.7</td><td>2.6</td><td>6.9</td><td>2.3</td><td>Iris-virginica</td></tr><tr><td>121</td><td>6.9</td><td>3.2</td><td>5.7</td><td>2.3</td><td>Iris-virginica</td></tr><tr><td>125</td><td>6.7</td><td>3.3</td><td>5.7</td><td>2.1</td><td>Iris-virginica</td></tr><tr><td>129</td><td>6.4</td><td>2.8</td><td>5.6</td><td>2.1</td><td>Iris-virginica</td></tr><tr><td>133</td><td>6.4</td><td>2.8</td><td>5.6</td><td>2.2</td><td>Iris-virginica</td></tr><tr><td>136</td><td>7.7</td><td>3</td><td>6.1</td><td>2.3</td><td>Iris-virginica</td></tr><tr><td>137</td><td>6.3</td><td>3.4</td><td>5.6</td><td>2.4</td><td>Iris-virginica</td></tr><tr><td>140</td><td>6.9</td><td>3.1</td><td>5.4</td><td>2.1</td><td>Iris-virginica</td></tr><tr><td>141</td><td>6.7</td><td>3.1</td><td>5.6</td><td>2.4</td><td>Iris-virginica</td></tr><tr><td>142</td><td>6.9</td><td>3.1</td><td>5.1</td><td>2.3</td><td>Iris-virginica</td></tr><tr><td>144</td><td>6.8</td><td>3.2</td><td>5.9</td><td>2.3</td><td>Iris-virginica</td></tr><tr><td>145</td><td>6.7</td><td>3.3</td><td>5.7</td><td>2.5</td><td>Iris-virginica</td></tr><tr><td>146</td><td>6.7</td><td>3</td><td>5.2</td><td>2.3</td><td>Iris-virginica</td></tr><tr><td>149</td><td>6.2</td><td>3.4</td><td>5.4</td><td>2.3</td><td>Iris-virginica</td></tr></table>"
                    },
                    "metadata": {}
                }
            ],
            "execution_count": 7
        },
        {
            "cell_type": "markdown",
            "source": [
                "<span style=\"color: rgb(0, 128, 0);\">7. Try to know the relationship between sepallength and petallength and draw a scatter plot between them and show the relationship between them</span>"
            ],
            "metadata": {
                "azdata_cell_guid": "1e5bbd0d-df49-447d-84cf-90d882b2b3da"
            },
            "attachments": {}
        },
        {
            "cell_type": "markdown",
            "source": [
                "<span style=\"color: #008000;\">8. Now apply species as hue in the same scatter plot for better visibility and understanding</span>"
            ],
            "metadata": {
                "azdata_cell_guid": "3d36d950-b9ab-4fec-bfc9-67423386ad3f"
            },
            "attachments": {}
        }
    ]
}