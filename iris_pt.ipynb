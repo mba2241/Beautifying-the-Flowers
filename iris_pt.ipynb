{
    "metadata": {
        "kernelspec": {
            "name": "python3",
            "display_name": "Python 3",
            "language": "python"
        },
        "language_info": {
            "name": "python",
            "version": "3.8.10",
            "mimetype": "text/x-python",
            "codemirror_mode": {
                "name": "ipython",
                "version": 3
            },
            "pygments_lexer": "ipython3",
            "nbconvert_exporter": "python",
            "file_extension": ".py"
        }
    },
    "nbformat_minor": 2,
    "nbformat": 4,
    "cells": [
        {
            "cell_type": "markdown",
            "source": [
                "# <span style=\"color: rgb(0, 128, 0); font-size: 12px;\">Beautifying the Flowers</span>\n",
                "\n",
                "<span style=\"color: rgb(0, 128, 0);\">This project is for a bit data manipulation and visualization and applying Linear Regression on a data set. Here we are using dataset as iris.csv.</span>\n",
                "\n",
                "<span style=\"color: rgb(0, 128, 0);\">This also has some requirements</span>"
            ],
            "metadata": {
                "azdata_cell_guid": "ceb204ff-706b-4f46-b9c9-804cc2053fa4"
            },
            "attachments": {}
        },
        {
            "cell_type": "markdown",
            "source": [
                "<span style=\"color: rgb(0, 128, 0);\">1. Import pandas , matplotlib , seaborn ,sklearn libraries</span>"
            ],
            "metadata": {
                "azdata_cell_guid": "7e243e54-4233-41ff-a7f3-3c3b5df0c6de"
            },
            "attachments": {}
        },
        {
            "cell_type": "code",
            "source": [
                "import pandas as pd\n",
                "import numpy as np\n",
                "import matplotlib.pyplot as plt \n",
                "import seaborn as sns\n",
                "import sklearn"
            ],
            "metadata": {
                "azdata_cell_guid": "e9ea321d-5093-42e1-8448-b8b28cf5e276",
                "tags": []
            },
            "outputs": [],
            "execution_count": 26
        },
        {
            "cell_type": "markdown",
            "source": [
                "<span style=\"color: rgb(0, 128, 0);\">2. Read csv file named as iris.csv</span>"
            ],
            "metadata": {
                "azdata_cell_guid": "df202e98-3628-4358-a54f-ece23906ae8e"
            },
            "attachments": {}
        },
        {
            "cell_type": "code",
            "source": [
                "df = pd.read_csv('Iris.csv')\n",
                "print(df.to_string()) "
            ],
            "metadata": {
                "azdata_cell_guid": "a302ccc4-7c5b-4c8c-b01f-f0fa36ae2d2d",
                "tags": []
            },
            "outputs": [
                {
                    "name": "stdout",
                    "text": "      Id  SepalLengthCm  SepalWidthCm  PetalLengthCm  PetalWidthCm          Species\n0      1            5.1           3.5            1.4           0.2      Iris-setosa\n1      2            4.9           3.0            1.4           0.2      Iris-setosa\n2      3            4.7           3.2            1.3           0.2      Iris-setosa\n3      4            4.6           3.1            1.5           0.2      Iris-setosa\n4      5            5.0           3.6            1.4           0.2      Iris-setosa\n5      6            5.4           3.9            1.7           0.4      Iris-setosa\n6      7            4.6           3.4            1.4           0.3      Iris-setosa\n7      8            5.0           3.4            1.5           0.2      Iris-setosa\n8      9            4.4           2.9            1.4           0.2      Iris-setosa\n9     10            4.9           3.1            1.5           0.1      Iris-setosa\n10    11            5.4           3.7            1.5           0.2      Iris-setosa\n11    12            4.8           3.4            1.6           0.2      Iris-setosa\n12    13            4.8           3.0            1.4           0.1      Iris-setosa\n13    14            4.3           3.0            1.1           0.1      Iris-setosa\n14    15            5.8           4.0            1.2           0.2      Iris-setosa\n15    16            5.7           4.4            1.5           0.4      Iris-setosa\n16    17            5.4           3.9            1.3           0.4      Iris-setosa\n17    18            5.1           3.5            1.4           0.3      Iris-setosa\n18    19            5.7           3.8            1.7           0.3      Iris-setosa\n19    20            5.1           3.8            1.5           0.3      Iris-setosa\n20    21            5.4           3.4            1.7           0.2      Iris-setosa\n21    22            5.1           3.7            1.5           0.4      Iris-setosa\n22    23            4.6           3.6            1.0           0.2      Iris-setosa\n23    24            5.1           3.3            1.7           0.5      Iris-setosa\n24    25            4.8           3.4            1.9           0.2      Iris-setosa\n25    26            5.0           3.0            1.6           0.2      Iris-setosa\n26    27            5.0           3.4            1.6           0.4      Iris-setosa\n27    28            5.2           3.5            1.5           0.2      Iris-setosa\n28    29            5.2           3.4            1.4           0.2      Iris-setosa\n29    30            4.7           3.2            1.6           0.2      Iris-setosa\n30    31            4.8           3.1            1.6           0.2      Iris-setosa\n31    32            5.4           3.4            1.5           0.4      Iris-setosa\n32    33            5.2           4.1            1.5           0.1      Iris-setosa\n33    34            5.5           4.2            1.4           0.2      Iris-setosa\n34    35            4.9           3.1            1.5           0.1      Iris-setosa\n35    36            5.0           3.2            1.2           0.2      Iris-setosa\n36    37            5.5           3.5            1.3           0.2      Iris-setosa\n37    38            4.9           3.1            1.5           0.1      Iris-setosa\n38    39            4.4           3.0            1.3           0.2      Iris-setosa\n39    40            5.1           3.4            1.5           0.2      Iris-setosa\n40    41            5.0           3.5            1.3           0.3      Iris-setosa\n41    42            4.5           2.3            1.3           0.3      Iris-setosa\n42    43            4.4           3.2            1.3           0.2      Iris-setosa\n43    44            5.0           3.5            1.6           0.6      Iris-setosa\n44    45            5.1           3.8            1.9           0.4      Iris-setosa\n45    46            4.8           3.0            1.4           0.3      Iris-setosa\n46    47            5.1           3.8            1.6           0.2      Iris-setosa\n47    48            4.6           3.2            1.4           0.2      Iris-setosa\n48    49            5.3           3.7            1.5           0.2      Iris-setosa\n49    50            5.0           3.3            1.4           0.2      Iris-setosa\n50    51            7.0           3.2            4.7           1.4  Iris-versicolor\n51    52            6.4           3.2            4.5           1.5  Iris-versicolor\n52    53            6.9           3.1            4.9           1.5  Iris-versicolor\n53    54            5.5           2.3            4.0           1.3  Iris-versicolor\n54    55            6.5           2.8            4.6           1.5  Iris-versicolor\n55    56            5.7           2.8            4.5           1.3  Iris-versicolor\n56    57            6.3           3.3            4.7           1.6  Iris-versicolor\n57    58            4.9           2.4            3.3           1.0  Iris-versicolor\n58    59            6.6           2.9            4.6           1.3  Iris-versicolor\n59    60            5.2           2.7            3.9           1.4  Iris-versicolor\n60    61            5.0           2.0            3.5           1.0  Iris-versicolor\n61    62            5.9           3.0            4.2           1.5  Iris-versicolor\n62    63            6.0           2.2            4.0           1.0  Iris-versicolor\n63    64            6.1           2.9            4.7           1.4  Iris-versicolor\n64    65            5.6           2.9            3.6           1.3  Iris-versicolor\n65    66            6.7           3.1            4.4           1.4  Iris-versicolor\n66    67            5.6           3.0            4.5           1.5  Iris-versicolor\n67    68            5.8           2.7            4.1           1.0  Iris-versicolor\n68    69            6.2           2.2            4.5           1.5  Iris-versicolor\n69    70            5.6           2.5            3.9           1.1  Iris-versicolor\n70    71            5.9           3.2            4.8           1.8  Iris-versicolor\n71    72            6.1           2.8            4.0           1.3  Iris-versicolor\n72    73            6.3           2.5            4.9           1.5  Iris-versicolor\n73    74            6.1           2.8            4.7           1.2  Iris-versicolor\n74    75            6.4           2.9            4.3           1.3  Iris-versicolor\n75    76            6.6           3.0            4.4           1.4  Iris-versicolor\n76    77            6.8           2.8            4.8           1.4  Iris-versicolor\n77    78            6.7           3.0            5.0           1.7  Iris-versicolor\n78    79            6.0           2.9            4.5           1.5  Iris-versicolor\n79    80            5.7           2.6            3.5           1.0  Iris-versicolor\n80    81            5.5           2.4            3.8           1.1  Iris-versicolor\n81    82            5.5           2.4            3.7           1.0  Iris-versicolor\n82    83            5.8           2.7            3.9           1.2  Iris-versicolor\n83    84            6.0           2.7            5.1           1.6  Iris-versicolor\n84    85            5.4           3.0            4.5           1.5  Iris-versicolor\n85    86            6.0           3.4            4.5           1.6  Iris-versicolor\n86    87            6.7           3.1            4.7           1.5  Iris-versicolor\n87    88            6.3           2.3            4.4           1.3  Iris-versicolor\n88    89            5.6           3.0            4.1           1.3  Iris-versicolor\n89    90            5.5           2.5            4.0           1.3  Iris-versicolor\n90    91            5.5           2.6            4.4           1.2  Iris-versicolor\n91    92            6.1           3.0            4.6           1.4  Iris-versicolor\n92    93            5.8           2.6            4.0           1.2  Iris-versicolor\n93    94            5.0           2.3            3.3           1.0  Iris-versicolor\n94    95            5.6           2.7            4.2           1.3  Iris-versicolor\n95    96            5.7           3.0            4.2           1.2  Iris-versicolor\n96    97            5.7           2.9            4.2           1.3  Iris-versicolor\n97    98            6.2           2.9            4.3           1.3  Iris-versicolor\n98    99            5.1           2.5            3.0           1.1  Iris-versicolor\n99   100            5.7           2.8            4.1           1.3  Iris-versicolor\n100  101            6.3           3.3            6.0           2.5   Iris-virginica\n101  102            5.8           2.7            5.1           1.9   Iris-virginica\n102  103            7.1           3.0            5.9           2.1   Iris-virginica\n103  104            6.3           2.9            5.6           1.8   Iris-virginica\n104  105            6.5           3.0            5.8           2.2   Iris-virginica\n105  106            7.6           3.0            6.6           2.1   Iris-virginica\n106  107            4.9           2.5            4.5           1.7   Iris-virginica\n107  108            7.3           2.9            6.3           1.8   Iris-virginica\n108  109            6.7           2.5            5.8           1.8   Iris-virginica\n109  110            7.2           3.6            6.1           2.5   Iris-virginica\n110  111            6.5           3.2            5.1           2.0   Iris-virginica\n111  112            6.4           2.7            5.3           1.9   Iris-virginica\n112  113            6.8           3.0            5.5           2.1   Iris-virginica\n113  114            5.7           2.5            5.0           2.0   Iris-virginica\n114  115            5.8           2.8            5.1           2.4   Iris-virginica\n115  116            6.4           3.2            5.3           2.3   Iris-virginica\n116  117            6.5           3.0            5.5           1.8   Iris-virginica\n117  118            7.7           3.8            6.7           2.2   Iris-virginica\n118  119            7.7           2.6            6.9           2.3   Iris-virginica\n119  120            6.0           2.2            5.0           1.5   Iris-virginica\n120  121            6.9           3.2            5.7           2.3   Iris-virginica\n121  122            5.6           2.8            4.9           2.0   Iris-virginica\n122  123            7.7           2.8            6.7           2.0   Iris-virginica\n123  124            6.3           2.7            4.9           1.8   Iris-virginica\n124  125            6.7           3.3            5.7           2.1   Iris-virginica\n125  126            7.2           3.2            6.0           1.8   Iris-virginica\n126  127            6.2           2.8            4.8           1.8   Iris-virginica\n127  128            6.1           3.0            4.9           1.8   Iris-virginica\n128  129            6.4           2.8            5.6           2.1   Iris-virginica\n129  130            7.2           3.0            5.8           1.6   Iris-virginica\n130  131            7.4           2.8            6.1           1.9   Iris-virginica\n131  132            7.9           3.8            6.4           2.0   Iris-virginica\n132  133            6.4           2.8            5.6           2.2   Iris-virginica\n133  134            6.3           2.8            5.1           1.5   Iris-virginica\n134  135            6.1           2.6            5.6           1.4   Iris-virginica\n135  136            7.7           3.0            6.1           2.3   Iris-virginica\n136  137            6.3           3.4            5.6           2.4   Iris-virginica\n137  138            6.4           3.1            5.5           1.8   Iris-virginica\n138  139            6.0           3.0            4.8           1.8   Iris-virginica\n139  140            6.9           3.1            5.4           2.1   Iris-virginica\n140  141            6.7           3.1            5.6           2.4   Iris-virginica\n141  142            6.9           3.1            5.1           2.3   Iris-virginica\n142  143            5.8           2.7            5.1           1.9   Iris-virginica\n143  144            6.8           3.2            5.9           2.3   Iris-virginica\n144  145            6.7           3.3            5.7           2.5   Iris-virginica\n145  146            6.7           3.0            5.2           2.3   Iris-virginica\n146  147            6.3           2.5            5.0           1.9   Iris-virginica\n147  148            6.5           3.0            5.2           2.0   Iris-virginica\n148  149            6.2           3.4            5.4           2.3   Iris-virginica\n149  150            5.9           3.0            5.1           1.8   Iris-virginica\n",
                    "output_type": "stream"
                }
            ],
            "execution_count": 24
        },
        {
            "cell_type": "markdown",
            "source": [
                "<span style=\"color: rgb(0, 128, 0);\">Show first five records</span>"
            ],
            "metadata": {
                "azdata_cell_guid": "09e2ca44-a16a-4f1b-bad5-a4bba383a539"
            },
            "attachments": {}
        },
        {
            "cell_type": "code",
            "source": [
                ""
            ],
            "metadata": {
                "azdata_cell_guid": "cea0913d-db48-4ab3-926b-f4a390b8994e"
            },
            "outputs": [],
            "execution_count": null
        }
    ]
}